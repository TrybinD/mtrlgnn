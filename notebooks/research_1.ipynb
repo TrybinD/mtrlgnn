{
  "cells": [
    {
      "cell_type": "code",
      "execution_count": 1,
      "id": "0e848ea6-9fa8-40bc-b408-457b23dbc1bb",
      "metadata": {},
      "outputs": [],
      "source": [
        "from rl4co.envs import FJSPEnv\n",
        "from rl4co.envs.scheduling.fjsp.generator import FJSPGenerator\n",
        "\n",
        "from rl4co.models.nn.graph.hgnn import HetGNNEncoder\n",
        "\n",
        "import torch\n",
        "\n",
        "from pytorch_lightning.loggers import CSVLogger\n",
        "from rl4co.utils.trainer import RL4COTrainer"
      ]
    },
    {
      "cell_type": "code",
      "execution_count": 2,
      "id": "77354359-fbb3-4761-96cc-2a1b451da2e4",
      "metadata": {},
      "outputs": [],
      "source": [
        "import pandas as pd\n",
        "\n",
        "import plotly.express as px"
      ]
    },
    {
      "cell_type": "code",
      "execution_count": 2,
      "id": "e55f6f38-866e-455c-bca5-84b4b1714008",
      "metadata": {},
      "outputs": [],
      "source": [
        "class FJSPGeneratorWithGPM(FJSPGenerator):\n",
        "\n",
        "    def __init__(self, num_jobs = 10, num_machines = 5, min_ops_per_job = 4, max_ops_per_job = 6, min_processing_time = 1, max_processing_time = 20, min_eligible_ma_per_op = 1, max_eligible_ma_per_op = None, same_mean_per_op = True, **unused_kwargs):\n",
        "        super().__init__(num_jobs, num_machines, min_ops_per_job, max_ops_per_job, min_processing_time, max_processing_time, min_eligible_ma_per_op, max_eligible_ma_per_op, same_mean_per_op, **unused_kwargs)\n",
        "\n",
        "    def _generate(self, batch_size):\n",
        "        td = super()._generate(batch_size)\n",
        "\n",
        "        bs, n_machines, n_ops = td[\"proc_times\"].shape\n",
        "\n",
        "        general_purpose_machine = torch.ones(size=(bs, 1, n_ops), dtype=td[\"proc_times\"].dtype, device=td[\"proc_times\"].device) * self.max_processing_time\n",
        "\n",
        "        td[\"proc_times\"] = torch.cat([td[\"proc_times\"], general_purpose_machine], dim=1)\n",
        "\n",
        "        return td"
      ]
    },
    {
      "cell_type": "code",
      "execution_count": 58,
      "id": "9900a96b-c895-4425-b090-4e53a3192a4f",
      "metadata": {},
      "outputs": [],
      "source": [
        "class FJSPEnvMOPM(FJSPEnv):\n",
        "    def __init__(self, generator_params = ..., check_mask = False, stepwise_reward = False, **kwargs):\n",
        "\n",
        "        generator_params = {**generator_params}\n",
        "        self.max_ops_limit = generator_params.pop(\"max_ops_limit\")\n",
        "        self.min_ops_limit = generator_params.pop(\"min_ops_limit\")\n",
        "\n",
        "        generator = FJSPGeneratorWithGPM(**generator_params)\n",
        "\n",
        "        super().__init__(generator=generator, mask_no_ops=True, check_mask=check_mask, stepwise_reward=stepwise_reward, **kwargs)\n",
        "\n",
        "    def _reset(self, td = None, batch_size=None):\n",
        "        td = super()._reset(td, batch_size)\n",
        "\n",
        "        ma_ops_processed_left = torch.randint_like(td[\"busy_until\"], \n",
        "                                                  low=self.min_ops_limit, \n",
        "                                                  high=self.max_ops_limit)\n",
        "\n",
        "        td[\"ma_ops_processed_left\"] = ma_ops_processed_left\n",
        "\n",
        "        td[\"ma_ops_processed_left\"][:, -1] = 100\n",
        "\n",
        "        return td.to(self.device)\n",
        "    \n",
        "    def _step(self, td):\n",
        "\n",
        "        td = td.to(self.device)\n",
        "\n",
        "        # test if we can use new action\n",
        "\n",
        "        n_batches, n_jobs = td[\"end_op_per_job\"].shape\n",
        "\n",
        "        ma_ops_processed_left = td[\"ma_ops_processed_left\"]\n",
        "\n",
        "        n_machines = ma_ops_processed_left.size(1)\n",
        "\n",
        "        machines = (td[\"action\"] - 1) % n_machines\n",
        "\n",
        "        ma_ops_processed_left[torch.arange(ma_ops_processed_left.size(0), device=self.device)[td[\"action\"] > 0], machines[td[\"action\"] > 0]] -= 1\n",
        "\n",
        "        assert (ma_ops_processed_left >= 0).all()\n",
        "\n",
        "        td = super()._step(td)\n",
        "\n",
        "        td[\"ma_ops_processed_left\"] = ma_ops_processed_left\n",
        "\n",
        "        availible_machines_mask = (ma_ops_processed_left > 0)\n",
        "\n",
        "        new_mask = torch.concat([torch.tensor([True], device=self.device).bool().repeat(n_batches, 1), availible_machines_mask.repeat(1, n_jobs)], dim=1)\n",
        "\n",
        "        new_mask = td[\"action_mask\"] * new_mask\n",
        "\n",
        "        all_false_rows = ~new_mask.any(dim=1)\n",
        "\n",
        "        new_mask[all_false_rows, 0] = True\n",
        "\n",
        "        td[\"action_mask\"] = new_mask\n",
        "\n",
        "        return td"
      ]
    },
    {
      "cell_type": "code",
      "execution_count": 59,
      "id": "4c757275-790d-4be5-9368-947094bdb627",
      "metadata": {},
      "outputs": [],
      "source": [
        "generator_params = {\n",
        "  \"num_jobs\": 20,  # the total number of jobs\n",
        "  \"num_machines\": 10,  # the total number of machines that can process operations\n",
        "  \"min_ops_per_job\": 1,  # minimum number of operatios per job\n",
        "  \"max_ops_per_job\": 5,  # maximum number of operations per job\n",
        "  \"min_processing_time\": 1,  # the minimum time required for a machine to process an operation\n",
        "  \"max_processing_time\": 20,  # the maximum time required for a machine to process an operation\n",
        "  \"min_eligible_ma_per_op\": 1,  # the minimum number of machines capable to process an operation\n",
        "  \"max_eligible_ma_per_op\": 5,  # the maximum number of machines capable to process an operation\n",
        "}\n",
        "\n",
        "new_generator_params = {**generator_params}\n",
        "new_generator_params[\"max_ops_limit\"] = 10\n",
        "new_generator_params[\"min_ops_limit\"] = 5"
      ]
    },
    {
      "cell_type": "code",
      "execution_count": 60,
      "id": "6a9af768-61f6-463b-9fdd-c3296c218d77",
      "metadata": {},
      "outputs": [
        {
          "name": "stderr",
          "output_type": "stream",
          "text": [
            "Found 2 unused kwargs: {'max_ops_limit': 10, 'min_ops_limit': 5}\n"
          ]
        }
      ],
      "source": [
        "new_env = FJSPEnvMOPM(generator_params=new_generator_params)\n",
        "\n",
        "env = FJSPEnv(generator_params=new_generator_params)"
      ]
    },
    {
      "cell_type": "code",
      "execution_count": 61,
      "id": "55770490-472b-4008-bab5-f75dbfd11868",
      "metadata": {},
      "outputs": [],
      "source": [
        "from rl4co.models.zoo.l2d import L2DPolicy, L2DModel"
      ]
    },
    {
      "cell_type": "code",
      "execution_count": 62,
      "id": "d94d7f35-1770-4767-a58b-35e150cb7f83",
      "metadata": {},
      "outputs": [
        {
          "data": {
            "text/plain": [
              "'gpu'"
            ]
          },
          "execution_count": 62,
          "metadata": {},
          "output_type": "execute_result"
        }
      ],
      "source": [
        "if torch.cuda.is_available():\n",
        "    accelerator = \"gpu\"\n",
        "    batch_size = 64\n",
        "    train_data_size = 5_000\n",
        "    embed_dim = 64\n",
        "    num_encoder_layers = 8\n",
        "else:\n",
        "    accelerator = \"cpu\"\n",
        "    batch_size = 32\n",
        "    train_data_size = 1_000\n",
        "    embed_dim = 64\n",
        "    num_encoder_layers = 2\n",
        "\n",
        "accelerator"
      ]
    },
    {
      "cell_type": "code",
      "execution_count": 16,
      "id": "7ad6a679-b1fd-42ad-b450-00eee736fead",
      "metadata": {},
      "outputs": [],
      "source": [
        "model = L2DModel(env,\n",
        "                 baseline=\"rollout\",\n",
        "                 batch_size=batch_size,\n",
        "                 train_data_size=train_data_size,\n",
        "                 val_data_size=1_000,\n",
        "                 optimizer_kwargs={\"lr\": 1e-5})"
      ]
    },
    {
      "cell_type": "code",
      "execution_count": 17,
      "id": "bf452aa4-3bbe-42c3-9868-505d4054b578",
      "metadata": {},
      "outputs": [
        {
          "data": {
            "text/plain": [
              "(tensor(-92.0156), tensor(-117.9375))"
            ]
          },
          "execution_count": 17,
          "metadata": {},
          "output_type": "execute_result"
        }
      ],
      "source": [
        "td_new = new_env.reset(batch_size=64)\n",
        "\n",
        "td = env.reset(batch_size=64)\n",
        "\n",
        "res = model(td, env=env)\n",
        "\n",
        "res_new = model(td_new, env=new_env)\n",
        "\n",
        "res[\"reward\"].mean(), res_new[\"reward\"].mean()"
      ]
    },
    {
      "cell_type": "code",
      "execution_count": 22,
      "id": "e74e4360-053c-4ed4-9357-94c59e9f13d6",
      "metadata": {},
      "outputs": [],
      "source": [
        "loggers = [\n",
        "        CSVLogger(save_dir=\"logs_research_1\", name=\"csv_logs\"),\n",
        "    ]"
      ]
    },
    {
      "cell_type": "code",
      "execution_count": 23,
      "id": "b8dc66d7-681c-4d5c-8a29-3b6c52279787",
      "metadata": {},
      "outputs": [
        {
          "name": "stderr",
          "output_type": "stream",
          "text": [
            "Using 16bit Automatic Mixed Precision (AMP)\n",
            "Using default `ModelCheckpoint`. Consider installing `litmodels` package to enable `LitModelCheckpoint` for automatic upload to the Lightning model registry.\n",
            "GPU available: True (cuda), used: True\n",
            "TPU available: False, using: 0 TPU cores\n",
            "HPU available: False, using: 0 HPUs\n"
          ]
        }
      ],
      "source": [
        "trainer = RL4COTrainer(\n",
        "    max_epochs=20,\n",
        "    accelerator=accelerator,\n",
        "    devices=1,\n",
        "    logger=loggers,\n",
        "    log_every_n_steps=20\n",
        ")"
      ]
    },
    {
      "cell_type": "code",
      "execution_count": 24,
      "id": "8bcde108-c9a7-4370-99de-214362ce6139",
      "metadata": {},
      "outputs": [
        {
          "name": "stderr",
          "output_type": "stream",
          "text": [
            "val_file not set. Generating dataset instead\n",
            "test_file not set. Generating dataset instead\n",
            "LOCAL_RANK: 0 - CUDA_VISIBLE_DEVICES: [0]\n",
            "\n",
            "  | Name     | Type           | Params | Mode \n",
            "----------------------------------------------------\n",
            "0 | env      | FJSPEnv        | 0      | train\n",
            "1 | policy   | L2DPolicy      | 81.2 K | train\n",
            "2 | baseline | WarmupBaseline | 81.2 K | train\n",
            "----------------------------------------------------\n",
            "162 K     Trainable params\n",
            "0         Non-trainable params\n",
            "162 K     Total params\n",
            "0.649     Total estimated model params size (MB)\n",
            "74        Modules in train mode\n",
            "70        Modules in eval mode\n"
          ]
        },
        {
          "data": {
            "application/vnd.jupyter.widget-view+json": {
              "model_id": "388c3cba5f634b0da2eb20e637aae280",
              "version_major": 2,
              "version_minor": 0
            },
            "text/plain": [
              "Sanity Checking: |          | 0/? [00:00<?, ?it/s]"
            ]
          },
          "metadata": {},
          "output_type": "display_data"
        },
        {
          "name": "stderr",
          "output_type": "stream",
          "text": [
            "/home/mlcore/conda/lib/python3.11/site-packages/lightning/pytorch/trainer/connectors/data_connector.py:425: The 'val_dataloader' does not have many workers which may be a bottleneck. Consider increasing the value of the `num_workers` argument` to `num_workers=11` in the `DataLoader` to improve performance.\n",
            "/home/mlcore/conda/lib/python3.11/site-packages/lightning/pytorch/trainer/connectors/data_connector.py:425: The 'train_dataloader' does not have many workers which may be a bottleneck. Consider increasing the value of the `num_workers` argument` to `num_workers=11` in the `DataLoader` to improve performance.\n"
          ]
        },
        {
          "data": {
            "application/vnd.jupyter.widget-view+json": {
              "model_id": "a092cf61754e463690a24645275ddb29",
              "version_major": 2,
              "version_minor": 0
            },
            "text/plain": [
              "Training: |          | 0/? [00:00<?, ?it/s]"
            ]
          },
          "metadata": {},
          "output_type": "display_data"
        },
        {
          "data": {
            "application/vnd.jupyter.widget-view+json": {
              "model_id": "fcdfb690cc554ea3aad975b9be10ef9e",
              "version_major": 2,
              "version_minor": 0
            },
            "text/plain": [
              "Validation: |          | 0/? [00:00<?, ?it/s]"
            ]
          },
          "metadata": {},
          "output_type": "display_data"
        },
        {
          "data": {
            "application/vnd.jupyter.widget-view+json": {
              "model_id": "73f608c4ef2d4ce7be49b3a2990f410a",
              "version_major": 2,
              "version_minor": 0
            },
            "text/plain": [
              "Validation: |          | 0/? [00:00<?, ?it/s]"
            ]
          },
          "metadata": {},
          "output_type": "display_data"
        },
        {
          "data": {
            "application/vnd.jupyter.widget-view+json": {
              "model_id": "f5956cad41c146f3aae8275e0cfd9003",
              "version_major": 2,
              "version_minor": 0
            },
            "text/plain": [
              "Validation: |          | 0/? [00:00<?, ?it/s]"
            ]
          },
          "metadata": {},
          "output_type": "display_data"
        },
        {
          "data": {
            "application/vnd.jupyter.widget-view+json": {
              "model_id": "693f7688cbe94072a6771bf3b4409f00",
              "version_major": 2,
              "version_minor": 0
            },
            "text/plain": [
              "Validation: |          | 0/? [00:00<?, ?it/s]"
            ]
          },
          "metadata": {},
          "output_type": "display_data"
        },
        {
          "data": {
            "application/vnd.jupyter.widget-view+json": {
              "model_id": "96547791bab84f75992fb182d003adb2",
              "version_major": 2,
              "version_minor": 0
            },
            "text/plain": [
              "Validation: |          | 0/? [00:00<?, ?it/s]"
            ]
          },
          "metadata": {},
          "output_type": "display_data"
        },
        {
          "data": {
            "application/vnd.jupyter.widget-view+json": {
              "model_id": "4fdcf9ef3c9f48959ab11da8552576de",
              "version_major": 2,
              "version_minor": 0
            },
            "text/plain": [
              "Validation: |          | 0/? [00:00<?, ?it/s]"
            ]
          },
          "metadata": {},
          "output_type": "display_data"
        },
        {
          "data": {
            "application/vnd.jupyter.widget-view+json": {
              "model_id": "c07bc6ac7ee24f7aae8a82948fff7095",
              "version_major": 2,
              "version_minor": 0
            },
            "text/plain": [
              "Validation: |          | 0/? [00:00<?, ?it/s]"
            ]
          },
          "metadata": {},
          "output_type": "display_data"
        },
        {
          "data": {
            "application/vnd.jupyter.widget-view+json": {
              "model_id": "308a604a259844d2956fae6f9b1e9e8f",
              "version_major": 2,
              "version_minor": 0
            },
            "text/plain": [
              "Validation: |          | 0/? [00:00<?, ?it/s]"
            ]
          },
          "metadata": {},
          "output_type": "display_data"
        },
        {
          "data": {
            "application/vnd.jupyter.widget-view+json": {
              "model_id": "8aa9d5dd1bd04d9cbecc51bc06e41efd",
              "version_major": 2,
              "version_minor": 0
            },
            "text/plain": [
              "Validation: |          | 0/? [00:00<?, ?it/s]"
            ]
          },
          "metadata": {},
          "output_type": "display_data"
        },
        {
          "data": {
            "application/vnd.jupyter.widget-view+json": {
              "model_id": "6ca7946232c44526a2618e4678e246b5",
              "version_major": 2,
              "version_minor": 0
            },
            "text/plain": [
              "Validation: |          | 0/? [00:00<?, ?it/s]"
            ]
          },
          "metadata": {},
          "output_type": "display_data"
        },
        {
          "data": {
            "application/vnd.jupyter.widget-view+json": {
              "model_id": "0eeca53882c6432fbbc48a9d9a84ae21",
              "version_major": 2,
              "version_minor": 0
            },
            "text/plain": [
              "Validation: |          | 0/? [00:00<?, ?it/s]"
            ]
          },
          "metadata": {},
          "output_type": "display_data"
        },
        {
          "data": {
            "application/vnd.jupyter.widget-view+json": {
              "model_id": "92cd2dec5c684997b2067f0be47dee86",
              "version_major": 2,
              "version_minor": 0
            },
            "text/plain": [
              "Validation: |          | 0/? [00:00<?, ?it/s]"
            ]
          },
          "metadata": {},
          "output_type": "display_data"
        },
        {
          "data": {
            "application/vnd.jupyter.widget-view+json": {
              "model_id": "7999974b5c35469ba2eaf9e139a28942",
              "version_major": 2,
              "version_minor": 0
            },
            "text/plain": [
              "Validation: |          | 0/? [00:00<?, ?it/s]"
            ]
          },
          "metadata": {},
          "output_type": "display_data"
        },
        {
          "data": {
            "application/vnd.jupyter.widget-view+json": {
              "model_id": "cabce2d9712f4ee980abb71c74ff52d9",
              "version_major": 2,
              "version_minor": 0
            },
            "text/plain": [
              "Validation: |          | 0/? [00:00<?, ?it/s]"
            ]
          },
          "metadata": {},
          "output_type": "display_data"
        },
        {
          "data": {
            "application/vnd.jupyter.widget-view+json": {
              "model_id": "d405393b4f894bf383e9d893871f44c2",
              "version_major": 2,
              "version_minor": 0
            },
            "text/plain": [
              "Validation: |          | 0/? [00:00<?, ?it/s]"
            ]
          },
          "metadata": {},
          "output_type": "display_data"
        },
        {
          "data": {
            "application/vnd.jupyter.widget-view+json": {
              "model_id": "362cea0e6ba74c77ae5deb8bc1f26a93",
              "version_major": 2,
              "version_minor": 0
            },
            "text/plain": [
              "Validation: |          | 0/? [00:00<?, ?it/s]"
            ]
          },
          "metadata": {},
          "output_type": "display_data"
        },
        {
          "data": {
            "application/vnd.jupyter.widget-view+json": {
              "model_id": "22268ae0a2f04ef0b95d2d6c8f6f2822",
              "version_major": 2,
              "version_minor": 0
            },
            "text/plain": [
              "Validation: |          | 0/? [00:00<?, ?it/s]"
            ]
          },
          "metadata": {},
          "output_type": "display_data"
        },
        {
          "data": {
            "application/vnd.jupyter.widget-view+json": {
              "model_id": "8e39a66b53d94f608b7c427a1c2f9af1",
              "version_major": 2,
              "version_minor": 0
            },
            "text/plain": [
              "Validation: |          | 0/? [00:00<?, ?it/s]"
            ]
          },
          "metadata": {},
          "output_type": "display_data"
        },
        {
          "data": {
            "application/vnd.jupyter.widget-view+json": {
              "model_id": "06604e5ef29446f08d15acb6f039e964",
              "version_major": 2,
              "version_minor": 0
            },
            "text/plain": [
              "Validation: |          | 0/? [00:00<?, ?it/s]"
            ]
          },
          "metadata": {},
          "output_type": "display_data"
        },
        {
          "data": {
            "application/vnd.jupyter.widget-view+json": {
              "model_id": "5c5b13ddb9074baba03142e27ba47a24",
              "version_major": 2,
              "version_minor": 0
            },
            "text/plain": [
              "Validation: |          | 0/? [00:00<?, ?it/s]"
            ]
          },
          "metadata": {},
          "output_type": "display_data"
        },
        {
          "name": "stderr",
          "output_type": "stream",
          "text": [
            "`Trainer.fit` stopped: `max_epochs=20` reached.\n"
          ]
        }
      ],
      "source": [
        "trainer.fit(model)"
      ]
    },
    {
      "cell_type": "code",
      "execution_count": 34,
      "id": "f2c4ec0c-8092-421b-947c-18a634aa85da",
      "metadata": {},
      "outputs": [],
      "source": [
        "metrics = pd.read_csv(\"./logs_research_1/csv_logs/version_0/metrics.csv\")\n",
        "metrics[\"val/reward\"] = -metrics[\"val/reward\"].shift(-1)\n",
        "metrics[\"train/reward\"] = -metrics[\"train/reward\"]"
      ]
    },
    {
      "cell_type": "code",
      "execution_count": null,
      "id": "20ad0e0e-efd3-40a9-a5b6-1050861ac4c8",
      "metadata": {},
      "outputs": [],
      "source": [
        "px.line(data_frame=metrics.dropna(), x=\"step\", y=[\"train/reward\", \"val/reward\"])"
      ]
    },
    {
      "cell_type": "code",
      "execution_count": 93,
      "id": "4cd9f3de-fa34-4239-be60-e224949d279a",
      "metadata": {},
      "outputs": [
        {
          "data": {
            "text/plain": [
              "(tensor(-83.9219), tensor(-108.9531))"
            ]
          },
          "execution_count": 93,
          "metadata": {},
          "output_type": "execute_result"
        }
      ],
      "source": [
        "td_new = new_env.reset(batch_size=64).to(\"cpu\")\n",
        "\n",
        "td = env.reset(batch_size=64).to(\"cpu\")\n",
        "\n",
        "res = model.to(\"cpu\")(td, env=env)\n",
        "\n",
        "res_new = model.to(\"cpu\")(td_new, env=new_env.to(\"cpu\"))\n",
        "\n",
        "res[\"reward\"].mean(), res_new[\"reward\"].mean()"
      ]
    },
    {
      "cell_type": "markdown",
      "id": "a8296606-e43a-4527-ab6b-0b1f8fbce18d",
      "metadata": {},
      "source": [
        "### New env"
      ]
    },
    {
      "cell_type": "code",
      "execution_count": 29,
      "id": "755f9659-e600-41f8-a219-d3168fd4690b",
      "metadata": {},
      "outputs": [
        {
          "name": "stderr",
          "output_type": "stream",
          "text": [
            "/home/mlcore/conda/lib/python3.11/site-packages/lightning/pytorch/utilities/parsing.py:209: UserWarning:\n",
            "\n",
            "Attribute 'env' is an instance of `nn.Module` and is already saved during checkpointing. It is recommended to ignore them using `self.save_hyperparameters(ignore=['env'])`.\n",
            "\n",
            "/home/mlcore/conda/lib/python3.11/site-packages/lightning/pytorch/utilities/parsing.py:209: UserWarning:\n",
            "\n",
            "Attribute 'policy' is an instance of `nn.Module` and is already saved during checkpointing. It is recommended to ignore them using `self.save_hyperparameters(ignore=['policy'])`.\n",
            "\n"
          ]
        }
      ],
      "source": [
        "old_model_new_env = L2DModel(new_env,\n",
        "                             baseline=\"rollout\",\n",
        "                             batch_size=batch_size,\n",
        "                             train_data_size=train_data_size,\n",
        "                             val_data_size=1_000,\n",
        "                             optimizer_kwargs={\"lr\": 1e-5})"
      ]
    },
    {
      "cell_type": "code",
      "execution_count": 30,
      "id": "b0c205ee-af64-49f9-b33c-54334074831f",
      "metadata": {},
      "outputs": [
        {
          "data": {
            "text/plain": [
              "tensor(-122.8281)"
            ]
          },
          "execution_count": 30,
          "metadata": {},
          "output_type": "execute_result"
        }
      ],
      "source": [
        "td_new = new_env.reset(batch_size=64)\n",
        "\n",
        "res_new = old_model_new_env(td_new, env=new_env)\n",
        "\n",
        "res_new[\"reward\"].mean()"
      ]
    },
    {
      "cell_type": "code",
      "execution_count": 36,
      "id": "9fc9fa67-bc52-4724-b9ec-4cc623e483d0",
      "metadata": {},
      "outputs": [],
      "source": [
        "loggers = [\n",
        "        CSVLogger(save_dir=\"old_model_new_env\", name=\"csv_logs\"),\n",
        "    ]"
      ]
    },
    {
      "cell_type": "code",
      "execution_count": 37,
      "id": "e7b9a514-74ce-48d5-98b2-7117f47a99a7",
      "metadata": {},
      "outputs": [
        {
          "name": "stderr",
          "output_type": "stream",
          "text": [
            "Using 16bit Automatic Mixed Precision (AMP)\n",
            "Using default `ModelCheckpoint`. Consider installing `litmodels` package to enable `LitModelCheckpoint` for automatic upload to the Lightning model registry.\n",
            "GPU available: True (cuda), used: True\n",
            "TPU available: False, using: 0 TPU cores\n",
            "HPU available: False, using: 0 HPUs\n"
          ]
        }
      ],
      "source": [
        "trainer = RL4COTrainer(\n",
        "    max_epochs=20,\n",
        "    accelerator=accelerator,\n",
        "    devices=1,\n",
        "    logger=loggers,\n",
        "    log_every_n_steps=20\n",
        ")"
      ]
    },
    {
      "cell_type": "code",
      "execution_count": 38,
      "id": "9ef7d965-aa37-4302-ad59-820dcae5ad7a",
      "metadata": {},
      "outputs": [
        {
          "name": "stderr",
          "output_type": "stream",
          "text": [
            "val_file not set. Generating dataset instead\n",
            "test_file not set. Generating dataset instead\n",
            "LOCAL_RANK: 0 - CUDA_VISIBLE_DEVICES: [0]\n",
            "\n",
            "  | Name     | Type           | Params | Mode \n",
            "----------------------------------------------------\n",
            "0 | env      | FJSPEnvMOPM    | 0      | train\n",
            "1 | policy   | L2DPolicy      | 81.2 K | train\n",
            "2 | baseline | WarmupBaseline | 81.2 K | train\n",
            "----------------------------------------------------\n",
            "162 K     Trainable params\n",
            "0         Non-trainable params\n",
            "162 K     Total params\n",
            "0.649     Total estimated model params size (MB)\n",
            "74        Modules in train mode\n",
            "70        Modules in eval mode\n"
          ]
        },
        {
          "data": {
            "application/vnd.jupyter.widget-view+json": {
              "model_id": "813f5a3f4f67416aba4194f5bce02b0f",
              "version_major": 2,
              "version_minor": 0
            },
            "text/plain": [
              "Sanity Checking: |          | 0/? [00:00<?, ?it/s]"
            ]
          },
          "metadata": {},
          "output_type": "display_data"
        },
        {
          "name": "stderr",
          "output_type": "stream",
          "text": [
            "/home/mlcore/conda/lib/python3.11/site-packages/lightning/pytorch/trainer/connectors/data_connector.py:425: PossibleUserWarning:\n",
            "\n",
            "The 'val_dataloader' does not have many workers which may be a bottleneck. Consider increasing the value of the `num_workers` argument` to `num_workers=11` in the `DataLoader` to improve performance.\n",
            "\n",
            "/home/mlcore/conda/lib/python3.11/site-packages/lightning/pytorch/trainer/connectors/data_connector.py:425: PossibleUserWarning:\n",
            "\n",
            "The 'train_dataloader' does not have many workers which may be a bottleneck. Consider increasing the value of the `num_workers` argument` to `num_workers=11` in the `DataLoader` to improve performance.\n",
            "\n"
          ]
        },
        {
          "data": {
            "application/vnd.jupyter.widget-view+json": {
              "model_id": "e937157daa55430799df6db567ff14c5",
              "version_major": 2,
              "version_minor": 0
            },
            "text/plain": [
              "Training: |          | 0/? [00:00<?, ?it/s]"
            ]
          },
          "metadata": {},
          "output_type": "display_data"
        },
        {
          "data": {
            "application/vnd.jupyter.widget-view+json": {
              "model_id": "660f79ca6ae74972b73ab2130b5c8fa4",
              "version_major": 2,
              "version_minor": 0
            },
            "text/plain": [
              "Validation: |          | 0/? [00:00<?, ?it/s]"
            ]
          },
          "metadata": {},
          "output_type": "display_data"
        },
        {
          "data": {
            "application/vnd.jupyter.widget-view+json": {
              "model_id": "ef8c6663cc704f97b5436e477c59ec48",
              "version_major": 2,
              "version_minor": 0
            },
            "text/plain": [
              "Validation: |          | 0/? [00:00<?, ?it/s]"
            ]
          },
          "metadata": {},
          "output_type": "display_data"
        },
        {
          "data": {
            "application/vnd.jupyter.widget-view+json": {
              "model_id": "aeb052d9717a4cf0811a18cb318b5872",
              "version_major": 2,
              "version_minor": 0
            },
            "text/plain": [
              "Validation: |          | 0/? [00:00<?, ?it/s]"
            ]
          },
          "metadata": {},
          "output_type": "display_data"
        },
        {
          "data": {
            "application/vnd.jupyter.widget-view+json": {
              "model_id": "2ef1d9431a484ff4a187ac9cdb8c5375",
              "version_major": 2,
              "version_minor": 0
            },
            "text/plain": [
              "Validation: |          | 0/? [00:00<?, ?it/s]"
            ]
          },
          "metadata": {},
          "output_type": "display_data"
        },
        {
          "data": {
            "application/vnd.jupyter.widget-view+json": {
              "model_id": "e0a5fb67d9cf438f82fe13d7e9aa25d9",
              "version_major": 2,
              "version_minor": 0
            },
            "text/plain": [
              "Validation: |          | 0/? [00:00<?, ?it/s]"
            ]
          },
          "metadata": {},
          "output_type": "display_data"
        },
        {
          "data": {
            "application/vnd.jupyter.widget-view+json": {
              "model_id": "534cb35df4b64025b9c7129c1b5aab85",
              "version_major": 2,
              "version_minor": 0
            },
            "text/plain": [
              "Validation: |          | 0/? [00:00<?, ?it/s]"
            ]
          },
          "metadata": {},
          "output_type": "display_data"
        },
        {
          "data": {
            "application/vnd.jupyter.widget-view+json": {
              "model_id": "3449dde432b3455cbb5a45722766f41b",
              "version_major": 2,
              "version_minor": 0
            },
            "text/plain": [
              "Validation: |          | 0/? [00:00<?, ?it/s]"
            ]
          },
          "metadata": {},
          "output_type": "display_data"
        },
        {
          "data": {
            "application/vnd.jupyter.widget-view+json": {
              "model_id": "0540af39276f44fc8739dc7035eeaed8",
              "version_major": 2,
              "version_minor": 0
            },
            "text/plain": [
              "Validation: |          | 0/? [00:00<?, ?it/s]"
            ]
          },
          "metadata": {},
          "output_type": "display_data"
        },
        {
          "data": {
            "application/vnd.jupyter.widget-view+json": {
              "model_id": "16bf69cd33ed4e8395aee7f09fac824c",
              "version_major": 2,
              "version_minor": 0
            },
            "text/plain": [
              "Validation: |          | 0/? [00:00<?, ?it/s]"
            ]
          },
          "metadata": {},
          "output_type": "display_data"
        },
        {
          "data": {
            "application/vnd.jupyter.widget-view+json": {
              "model_id": "e1a66731247247b998808510bf9ccb68",
              "version_major": 2,
              "version_minor": 0
            },
            "text/plain": [
              "Validation: |          | 0/? [00:00<?, ?it/s]"
            ]
          },
          "metadata": {},
          "output_type": "display_data"
        },
        {
          "data": {
            "application/vnd.jupyter.widget-view+json": {
              "model_id": "579a20f5448a4227b484159155ebc171",
              "version_major": 2,
              "version_minor": 0
            },
            "text/plain": [
              "Validation: |          | 0/? [00:00<?, ?it/s]"
            ]
          },
          "metadata": {},
          "output_type": "display_data"
        },
        {
          "data": {
            "application/vnd.jupyter.widget-view+json": {
              "model_id": "bd886e0d47354e9c9fbcfb4977b4d153",
              "version_major": 2,
              "version_minor": 0
            },
            "text/plain": [
              "Validation: |          | 0/? [00:00<?, ?it/s]"
            ]
          },
          "metadata": {},
          "output_type": "display_data"
        },
        {
          "data": {
            "application/vnd.jupyter.widget-view+json": {
              "model_id": "22b7d37e254c42939cea1aa811426230",
              "version_major": 2,
              "version_minor": 0
            },
            "text/plain": [
              "Validation: |          | 0/? [00:00<?, ?it/s]"
            ]
          },
          "metadata": {},
          "output_type": "display_data"
        },
        {
          "data": {
            "application/vnd.jupyter.widget-view+json": {
              "model_id": "6e71559f8f104bd98b29642753bf532a",
              "version_major": 2,
              "version_minor": 0
            },
            "text/plain": [
              "Validation: |          | 0/? [00:00<?, ?it/s]"
            ]
          },
          "metadata": {},
          "output_type": "display_data"
        },
        {
          "data": {
            "application/vnd.jupyter.widget-view+json": {
              "model_id": "8a6240e2618d44f3b9e22557eda44f9f",
              "version_major": 2,
              "version_minor": 0
            },
            "text/plain": [
              "Validation: |          | 0/? [00:00<?, ?it/s]"
            ]
          },
          "metadata": {},
          "output_type": "display_data"
        },
        {
          "data": {
            "application/vnd.jupyter.widget-view+json": {
              "model_id": "74f5ea5b85b44bc4a58ac32b6aec393a",
              "version_major": 2,
              "version_minor": 0
            },
            "text/plain": [
              "Validation: |          | 0/? [00:00<?, ?it/s]"
            ]
          },
          "metadata": {},
          "output_type": "display_data"
        },
        {
          "data": {
            "application/vnd.jupyter.widget-view+json": {
              "model_id": "6bbc72bd14734bbc832a0c5c6915f763",
              "version_major": 2,
              "version_minor": 0
            },
            "text/plain": [
              "Validation: |          | 0/? [00:00<?, ?it/s]"
            ]
          },
          "metadata": {},
          "output_type": "display_data"
        },
        {
          "data": {
            "application/vnd.jupyter.widget-view+json": {
              "model_id": "6a7381a848fd40048b91a9553ebdc44b",
              "version_major": 2,
              "version_minor": 0
            },
            "text/plain": [
              "Validation: |          | 0/? [00:00<?, ?it/s]"
            ]
          },
          "metadata": {},
          "output_type": "display_data"
        },
        {
          "data": {
            "application/vnd.jupyter.widget-view+json": {
              "model_id": "05b048742d55460c815bab05b92c00d3",
              "version_major": 2,
              "version_minor": 0
            },
            "text/plain": [
              "Validation: |          | 0/? [00:00<?, ?it/s]"
            ]
          },
          "metadata": {},
          "output_type": "display_data"
        },
        {
          "data": {
            "application/vnd.jupyter.widget-view+json": {
              "model_id": "7db757bacb9848d08962fa207c787453",
              "version_major": 2,
              "version_minor": 0
            },
            "text/plain": [
              "Validation: |          | 0/? [00:00<?, ?it/s]"
            ]
          },
          "metadata": {},
          "output_type": "display_data"
        },
        {
          "name": "stderr",
          "output_type": "stream",
          "text": [
            "`Trainer.fit` stopped: `max_epochs=20` reached.\n"
          ]
        }
      ],
      "source": [
        "trainer.fit(old_model_new_env)"
      ]
    },
    {
      "cell_type": "code",
      "execution_count": 3,
      "id": "507db459-2a28-4482-a90b-a2354f191c81",
      "metadata": {},
      "outputs": [],
      "source": [
        "metrics1 = pd.read_csv(\"./old_model_new_env/csv_logs/version_0/metrics.csv\")\n",
        "metrics1[\"val/reward\"] = -metrics1[\"val/reward\"].shift(-1)\n",
        "metrics1[\"train/reward\"] = -metrics1[\"train/reward\"]"
      ]
    },
    {
      "cell_type": "code",
      "execution_count": null,
      "id": "2fa6d1ba-082a-45a8-8ad5-98bb337d53b1",
      "metadata": {},
      "outputs": [],
      "source": [
        "px.line(data_frame=metrics1.dropna(), x=\"step\", y=[\"train/reward\", \"val/reward\"])"
      ]
    },
    {
      "cell_type": "code",
      "execution_count": 96,
      "id": "bb14fc08-4e17-47be-9ec8-396363110311",
      "metadata": {},
      "outputs": [
        {
          "data": {
            "text/plain": [
              "tensor(-100.5469)"
            ]
          },
          "execution_count": 96,
          "metadata": {},
          "output_type": "execute_result"
        }
      ],
      "source": [
        "td_new = new_env.reset(batch_size=64).to(\"cpu\")\n",
        "\n",
        "res_new = old_model_new_env.to(\"cpu\")(td_new, env=new_env.to(\"cpu\"))\n",
        "\n",
        "res_new[\"reward\"].mean()"
      ]
    },
    {
      "cell_type": "code",
      "execution_count": null,
      "id": "8e133ebb-a930-442f-b5db-248da9a0a10f",
      "metadata": {},
      "outputs": [],
      "source": []
    },
    {
      "cell_type": "code",
      "execution_count": null,
      "id": "d285cedb-9cc3-44d0-8cdf-53459e6dc39c",
      "metadata": {},
      "outputs": [],
      "source": []
    },
    {
      "cell_type": "markdown",
      "id": "c0120409-9d0c-4b19-a13b-c38c6326ff09",
      "metadata": {},
      "source": [
        "# Новая модель"
      ]
    },
    {
      "cell_type": "code",
      "execution_count": null,
      "id": "54b80fac-6b73-4eb3-bac0-bc44c4c40c71",
      "metadata": {},
      "outputs": [],
      "source": []
    },
    {
      "cell_type": "code",
      "execution_count": 72,
      "id": "911cc964-ad80-49bb-a1fb-e79a25a42e1e",
      "metadata": {},
      "outputs": [],
      "source": [
        "import torch.nn as nn\n",
        "\n",
        "class MultiEncoder(nn.Module):\n",
        "    def __init__(self, encoder_1, encoder_2, *args, **kwargs):\n",
        "        super().__init__(*args, **kwargs)\n",
        "        self.encoder_1 = encoder_1\n",
        "        self.encoder_2 = encoder_2\n",
        "\n",
        "    def forward(self, td):\n",
        "\n",
        "        hidden_1, _ = self.encoder_1(td)\n",
        "\n",
        "        hidden_2, _ = self.encoder_2(td)\n",
        "\n",
        "        hidden = (hidden_1[0] + hidden_2[0], hidden_1[1] + hidden_2[1])\n",
        "\n",
        "        return hidden, None"
      ]
    },
    {
      "cell_type": "code",
      "execution_count": 79,
      "id": "12177638-f41d-4c03-bb96-5626d11d8a5f",
      "metadata": {},
      "outputs": [],
      "source": [
        "class AdditionalMachineInfoInitEmbedding(nn.Module):\n",
        "    def __init__(\n",
        "        self,\n",
        "        embed_dim,\n",
        "        feature_name: str,\n",
        "        feature_dim: int = 1,\n",
        "        linear_bias: bool = True,\n",
        "    ):\n",
        "        super().__init__()\n",
        "        self.feature_name = feature_name\n",
        "        self.embed_dim = embed_dim\n",
        "        self.init_embed = nn.Linear(feature_dim, embed_dim, linear_bias)\n",
        "\n",
        "    def forward(self, td):\n",
        "        bs, n_ops = td[\"is_ready\"].shape\n",
        "        ops_emb = torch.randn(size=(bs, n_ops, self.embed_dim), device=td.device)\n",
        "        ma_emb = self.init_embed(td[self.feature_name].unsqueeze(2))\n",
        "        n_machines = ma_emb.size(1)\n",
        "        edge_emb = torch.randn(size=(bs, n_ops, n_machines, self.embed_dim), device=td.device)\n",
        "        edges = td[\"ops_ma_adj\"].transpose(1, 2).to(td.device)\n",
        "\n",
        "        return ops_emb, ma_emb, edge_emb, edges"
      ]
    },
    {
      "cell_type": "code",
      "execution_count": 80,
      "id": "6d4bc767-1759-4065-9841-53b0ca8b92fd",
      "metadata": {},
      "outputs": [],
      "source": [
        "td_new = new_env.reset(batch_size=64)\n",
        "\n",
        "encoder_1 = HetGNNEncoder(embed_dim=64, num_layers=2)\n",
        "encoder_2 = HetGNNEncoder(embed_dim=64, num_layers=2, init_embedding=AdditionalMachineInfoInitEmbedding(64, \"ma_ops_processed_left\"))\n",
        "\n",
        "enc = MultiEncoder(encoder_1, encoder_2)"
      ]
    },
    {
      "cell_type": "code",
      "execution_count": 81,
      "id": "8f366ddc-7257-44a1-8828-ec2deb708e9e",
      "metadata": {},
      "outputs": [
        {
          "name": "stderr",
          "output_type": "stream",
          "text": [
            "/home/mlcore/conda/lib/python3.11/site-packages/lightning/pytorch/utilities/parsing.py:209: UserWarning:\n",
            "\n",
            "Attribute 'env' is an instance of `nn.Module` and is already saved during checkpointing. It is recommended to ignore them using `self.save_hyperparameters(ignore=['env'])`.\n",
            "\n",
            "/home/mlcore/conda/lib/python3.11/site-packages/lightning/pytorch/utilities/parsing.py:209: UserWarning:\n",
            "\n",
            "Attribute 'policy' is an instance of `nn.Module` and is already saved during checkpointing. It is recommended to ignore them using `self.save_hyperparameters(ignore=['policy'])`.\n",
            "\n"
          ]
        }
      ],
      "source": [
        "new_model = L2DModel(new_env,\n",
        "                 baseline=\"rollout\",\n",
        "                 batch_size=64,\n",
        "                 train_data_size=train_data_size,\n",
        "                 val_data_size=1_000,\n",
        "                 optimizer_kwargs={\"lr\": 1e-5}, \n",
        "                 policy_kwargs={\"encoder\": enc, \"embed_dim\": 64})"
      ]
    },
    {
      "cell_type": "code",
      "execution_count": 82,
      "id": "fde82d33-4c80-4dde-befa-71c562d51a1c",
      "metadata": {},
      "outputs": [],
      "source": [
        "loggers = [\n",
        "        CSVLogger(save_dir=\"new_model\", name=\"csv_logs\"),\n",
        "    ]"
      ]
    },
    {
      "cell_type": "code",
      "execution_count": 83,
      "id": "22ceba19-0c7f-4060-8c18-3e5ab2188f3b",
      "metadata": {},
      "outputs": [
        {
          "name": "stderr",
          "output_type": "stream",
          "text": [
            "Using 16bit Automatic Mixed Precision (AMP)\n",
            "Using default `ModelCheckpoint`. Consider installing `litmodels` package to enable `LitModelCheckpoint` for automatic upload to the Lightning model registry.\n",
            "GPU available: True (cuda), used: True\n",
            "TPU available: False, using: 0 TPU cores\n",
            "HPU available: False, using: 0 HPUs\n"
          ]
        }
      ],
      "source": [
        "trainer = RL4COTrainer(\n",
        "    max_epochs=20,\n",
        "    accelerator=accelerator,\n",
        "    devices=1,\n",
        "    logger=loggers,\n",
        "    log_every_n_steps=20\n",
        ")"
      ]
    },
    {
      "cell_type": "code",
      "execution_count": 84,
      "id": "f7abc7b1-0acb-4660-a68d-16823642d589",
      "metadata": {},
      "outputs": [
        {
          "name": "stderr",
          "output_type": "stream",
          "text": [
            "val_file not set. Generating dataset instead\n",
            "test_file not set. Generating dataset instead\n",
            "LOCAL_RANK: 0 - CUDA_VISIBLE_DEVICES: [0]\n",
            "\n",
            "  | Name     | Type           | Params | Mode \n",
            "----------------------------------------------------\n",
            "0 | env      | FJSPEnvMOPM    | 0      | eval \n",
            "1 | policy   | L2DPolicy      | 149 K  | train\n",
            "2 | baseline | WarmupBaseline | 149 K  | train\n",
            "----------------------------------------------------\n",
            "298 K     Trainable params\n",
            "0         Non-trainable params\n",
            "298 K     Total params\n",
            "1.195     Total estimated model params size (MB)\n",
            "128       Modules in train mode\n",
            "126       Modules in eval mode\n"
          ]
        },
        {
          "data": {
            "application/vnd.jupyter.widget-view+json": {
              "model_id": "733ad9d10a6c43a8990beac2cf218e22",
              "version_major": 2,
              "version_minor": 0
            },
            "text/plain": [
              "Sanity Checking: |          | 0/? [00:00<?, ?it/s]"
            ]
          },
          "metadata": {},
          "output_type": "display_data"
        },
        {
          "name": "stderr",
          "output_type": "stream",
          "text": [
            "/home/mlcore/conda/lib/python3.11/site-packages/lightning/pytorch/trainer/connectors/data_connector.py:425: PossibleUserWarning:\n",
            "\n",
            "The 'val_dataloader' does not have many workers which may be a bottleneck. Consider increasing the value of the `num_workers` argument` to `num_workers=11` in the `DataLoader` to improve performance.\n",
            "\n",
            "/home/mlcore/conda/lib/python3.11/site-packages/lightning/pytorch/trainer/connectors/data_connector.py:425: PossibleUserWarning:\n",
            "\n",
            "The 'train_dataloader' does not have many workers which may be a bottleneck. Consider increasing the value of the `num_workers` argument` to `num_workers=11` in the `DataLoader` to improve performance.\n",
            "\n"
          ]
        },
        {
          "data": {
            "application/vnd.jupyter.widget-view+json": {
              "model_id": "1c085172695347039ed0c1c70f212051",
              "version_major": 2,
              "version_minor": 0
            },
            "text/plain": [
              "Training: |          | 0/? [00:00<?, ?it/s]"
            ]
          },
          "metadata": {},
          "output_type": "display_data"
        },
        {
          "data": {
            "application/vnd.jupyter.widget-view+json": {
              "model_id": "63a823c8d9a04bb88441b3fbe0279948",
              "version_major": 2,
              "version_minor": 0
            },
            "text/plain": [
              "Validation: |          | 0/? [00:00<?, ?it/s]"
            ]
          },
          "metadata": {},
          "output_type": "display_data"
        },
        {
          "data": {
            "application/vnd.jupyter.widget-view+json": {
              "model_id": "d58f220cde214189b2ca10194f299524",
              "version_major": 2,
              "version_minor": 0
            },
            "text/plain": [
              "Validation: |          | 0/? [00:00<?, ?it/s]"
            ]
          },
          "metadata": {},
          "output_type": "display_data"
        },
        {
          "data": {
            "application/vnd.jupyter.widget-view+json": {
              "model_id": "0d54fc094f484d0998126fd827a40250",
              "version_major": 2,
              "version_minor": 0
            },
            "text/plain": [
              "Validation: |          | 0/? [00:00<?, ?it/s]"
            ]
          },
          "metadata": {},
          "output_type": "display_data"
        },
        {
          "data": {
            "application/vnd.jupyter.widget-view+json": {
              "model_id": "ad6ec6d9b2d4410ea8b062deb89bda49",
              "version_major": 2,
              "version_minor": 0
            },
            "text/plain": [
              "Validation: |          | 0/? [00:00<?, ?it/s]"
            ]
          },
          "metadata": {},
          "output_type": "display_data"
        },
        {
          "data": {
            "application/vnd.jupyter.widget-view+json": {
              "model_id": "23777a0d35d44012a217dfadf2572a38",
              "version_major": 2,
              "version_minor": 0
            },
            "text/plain": [
              "Validation: |          | 0/? [00:00<?, ?it/s]"
            ]
          },
          "metadata": {},
          "output_type": "display_data"
        },
        {
          "data": {
            "application/vnd.jupyter.widget-view+json": {
              "model_id": "bbf712eb094f4fa28890186b3809c1de",
              "version_major": 2,
              "version_minor": 0
            },
            "text/plain": [
              "Validation: |          | 0/? [00:00<?, ?it/s]"
            ]
          },
          "metadata": {},
          "output_type": "display_data"
        },
        {
          "data": {
            "application/vnd.jupyter.widget-view+json": {
              "model_id": "019d97a7101446569a2191c55335c1e3",
              "version_major": 2,
              "version_minor": 0
            },
            "text/plain": [
              "Validation: |          | 0/? [00:00<?, ?it/s]"
            ]
          },
          "metadata": {},
          "output_type": "display_data"
        },
        {
          "data": {
            "application/vnd.jupyter.widget-view+json": {
              "model_id": "c9dcb3f54f4a4111984909961b9379f8",
              "version_major": 2,
              "version_minor": 0
            },
            "text/plain": [
              "Validation: |          | 0/? [00:00<?, ?it/s]"
            ]
          },
          "metadata": {},
          "output_type": "display_data"
        },
        {
          "data": {
            "application/vnd.jupyter.widget-view+json": {
              "model_id": "dacdf7a6c23b494c9ba651588534ee62",
              "version_major": 2,
              "version_minor": 0
            },
            "text/plain": [
              "Validation: |          | 0/? [00:00<?, ?it/s]"
            ]
          },
          "metadata": {},
          "output_type": "display_data"
        },
        {
          "data": {
            "application/vnd.jupyter.widget-view+json": {
              "model_id": "a8b5c988306f4fe5bf049b2b2c35423d",
              "version_major": 2,
              "version_minor": 0
            },
            "text/plain": [
              "Validation: |          | 0/? [00:00<?, ?it/s]"
            ]
          },
          "metadata": {},
          "output_type": "display_data"
        },
        {
          "data": {
            "application/vnd.jupyter.widget-view+json": {
              "model_id": "1d387d8c9c1d427684603ede6dfef129",
              "version_major": 2,
              "version_minor": 0
            },
            "text/plain": [
              "Validation: |          | 0/? [00:00<?, ?it/s]"
            ]
          },
          "metadata": {},
          "output_type": "display_data"
        },
        {
          "data": {
            "application/vnd.jupyter.widget-view+json": {
              "model_id": "637229dfcc70439ca3a1b4c515491606",
              "version_major": 2,
              "version_minor": 0
            },
            "text/plain": [
              "Validation: |          | 0/? [00:00<?, ?it/s]"
            ]
          },
          "metadata": {},
          "output_type": "display_data"
        },
        {
          "data": {
            "application/vnd.jupyter.widget-view+json": {
              "model_id": "c19fb6a95dcd458eb3d08a26b38eb682",
              "version_major": 2,
              "version_minor": 0
            },
            "text/plain": [
              "Validation: |          | 0/? [00:00<?, ?it/s]"
            ]
          },
          "metadata": {},
          "output_type": "display_data"
        },
        {
          "data": {
            "application/vnd.jupyter.widget-view+json": {
              "model_id": "b130e21963924e6994f3b660c6030d54",
              "version_major": 2,
              "version_minor": 0
            },
            "text/plain": [
              "Validation: |          | 0/? [00:00<?, ?it/s]"
            ]
          },
          "metadata": {},
          "output_type": "display_data"
        },
        {
          "data": {
            "application/vnd.jupyter.widget-view+json": {
              "model_id": "3be3c125c79f46988a14256365902a92",
              "version_major": 2,
              "version_minor": 0
            },
            "text/plain": [
              "Validation: |          | 0/? [00:00<?, ?it/s]"
            ]
          },
          "metadata": {},
          "output_type": "display_data"
        },
        {
          "data": {
            "application/vnd.jupyter.widget-view+json": {
              "model_id": "76f5356e238d41769827c3948437ba89",
              "version_major": 2,
              "version_minor": 0
            },
            "text/plain": [
              "Validation: |          | 0/? [00:00<?, ?it/s]"
            ]
          },
          "metadata": {},
          "output_type": "display_data"
        },
        {
          "data": {
            "application/vnd.jupyter.widget-view+json": {
              "model_id": "a8684ef105eb46229cac69f6773559bf",
              "version_major": 2,
              "version_minor": 0
            },
            "text/plain": [
              "Validation: |          | 0/? [00:00<?, ?it/s]"
            ]
          },
          "metadata": {},
          "output_type": "display_data"
        },
        {
          "data": {
            "application/vnd.jupyter.widget-view+json": {
              "model_id": "fa9338d841a34fca9ca5f3fea3a720bf",
              "version_major": 2,
              "version_minor": 0
            },
            "text/plain": [
              "Validation: |          | 0/? [00:00<?, ?it/s]"
            ]
          },
          "metadata": {},
          "output_type": "display_data"
        },
        {
          "data": {
            "application/vnd.jupyter.widget-view+json": {
              "model_id": "042ebd5c436345e8b2980e68afca5ed0",
              "version_major": 2,
              "version_minor": 0
            },
            "text/plain": [
              "Validation: |          | 0/? [00:00<?, ?it/s]"
            ]
          },
          "metadata": {},
          "output_type": "display_data"
        },
        {
          "data": {
            "application/vnd.jupyter.widget-view+json": {
              "model_id": "49ff2b0a27f541b986b32794c2f25c22",
              "version_major": 2,
              "version_minor": 0
            },
            "text/plain": [
              "Validation: |          | 0/? [00:00<?, ?it/s]"
            ]
          },
          "metadata": {},
          "output_type": "display_data"
        },
        {
          "name": "stderr",
          "output_type": "stream",
          "text": [
            "`Trainer.fit` stopped: `max_epochs=20` reached.\n"
          ]
        }
      ],
      "source": [
        "trainer.fit(new_model)"
      ]
    },
    {
      "cell_type": "code",
      "execution_count": 4,
      "id": "893a4257-c78a-4046-92e1-32f5b2356e8e",
      "metadata": {},
      "outputs": [],
      "source": [
        "metrics2 = pd.read_csv(\"./new_model/csv_logs/version_0/metrics.csv\")\n",
        "metrics2[\"val/reward\"] = -metrics2[\"val/reward\"].shift(-1)\n",
        "metrics2[\"train/reward\"] = -metrics2[\"train/reward\"]"
      ]
    },
    {
      "cell_type": "code",
      "execution_count": null,
      "id": "6ebc9d0f-bfd8-4a26-8ece-9f6966206466",
      "metadata": {},
      "outputs": [],
      "source": [
        "px.line(data_frame=metrics2.dropna(), x=\"step\", y=[\"train/reward\", \"val/reward\"])"
      ]
    },
    {
      "cell_type": "code",
      "execution_count": 99,
      "id": "1ea83a8c-da46-48c1-9da6-aaeee2dfb24d",
      "metadata": {},
      "outputs": [
        {
          "data": {
            "text/plain": [
              "tensor(-93.4219)"
            ]
          },
          "execution_count": 99,
          "metadata": {},
          "output_type": "execute_result"
        }
      ],
      "source": [
        "td_new = new_env.reset(batch_size=64).to(\"cpu\")\n",
        "\n",
        "res_new = new_model.to(\"cpu\")(td_new, env=new_env.to(\"cpu\"))\n",
        "\n",
        "res_new[\"reward\"].mean()"
      ]
    },
    {
      "cell_type": "code",
      "execution_count": null,
      "id": "3d45eefc-af99-4910-8918-c7b8a0276fdb",
      "metadata": {},
      "outputs": [],
      "source": []
    },
    {
      "cell_type": "markdown",
      "id": "e441690d-12f3-49c9-8576-1d659060bc7c",
      "metadata": {},
      "source": [
        "# Смесь обученный + необученный "
      ]
    },
    {
      "cell_type": "code",
      "execution_count": 143,
      "id": "bc625e30-ab32-47dd-815e-285d0a611514",
      "metadata": {},
      "outputs": [],
      "source": [
        "import copy"
      ]
    },
    {
      "cell_type": "code",
      "execution_count": 144,
      "id": "124267ae-8f71-4c78-ae07-6e4dfabc823f",
      "metadata": {},
      "outputs": [],
      "source": [
        "freezed_encoder = copy.deepcopy(model.policy.encoder)\n",
        "freezed_decoder = copy.deepcopy(model.policy.decoder)"
      ]
    },
    {
      "cell_type": "code",
      "execution_count": 145,
      "id": "0b4f2862-222f-4bc7-8c78-7c196ec48aaa",
      "metadata": {},
      "outputs": [],
      "source": [
        "for param in freezed_encoder.parameters():\n",
        "    param.requires_grad = False"
      ]
    },
    {
      "cell_type": "code",
      "execution_count": 146,
      "id": "90ba9e67-7ee0-4d99-b904-505c433ed229",
      "metadata": {},
      "outputs": [],
      "source": [
        "for param in freezed_decoder.parameters():\n",
        "    param.requires_grad = False"
      ]
    },
    {
      "cell_type": "code",
      "execution_count": 147,
      "id": "dffa323f-e49a-4452-8029-ad8d5a9875d1",
      "metadata": {},
      "outputs": [],
      "source": [
        "learnable_encoder = HetGNNEncoder(embed_dim=64, num_layers=2, init_embedding=AdditionalMachineInfoInitEmbedding(64, \"ma_ops_processed_left\"))"
      ]
    },
    {
      "cell_type": "code",
      "execution_count": 148,
      "id": "c30e7df9-fee9-4cb2-91f1-307849807035",
      "metadata": {},
      "outputs": [],
      "source": [
        "enc_mix = MultiEncoder(freezed_encoder, learnable_encoder)"
      ]
    },
    {
      "cell_type": "code",
      "execution_count": 149,
      "id": "3de55b60-0da8-486c-baf4-f25d82e78409",
      "metadata": {},
      "outputs": [],
      "source": [
        "new_mix_model = L2DModel(new_env,\n",
        "                 baseline=\"rollout\",\n",
        "                 batch_size=64,\n",
        "                 train_data_size=train_data_size,\n",
        "                 val_data_size=1_000,\n",
        "                 optimizer_kwargs={\"lr\": 1e-5}, \n",
        "                 policy_kwargs={\"encoder\": enc_mix, \"embed_dim\": 64, \"decoder\": freezed_decoder})"
      ]
    },
    {
      "cell_type": "code",
      "execution_count": 150,
      "id": "29f09267-f9b4-40e7-bfb7-4b5738b0bce6",
      "metadata": {},
      "outputs": [],
      "source": [
        "loggers = [\n",
        "        CSVLogger(save_dir=\"new_mix_model\", name=\"csv_logs\"),\n",
        "    ]"
      ]
    },
    {
      "cell_type": "code",
      "execution_count": 151,
      "id": "b8d0b14f-5ada-4d47-b304-80e9f773ae95",
      "metadata": {},
      "outputs": [
        {
          "name": "stderr",
          "output_type": "stream",
          "text": [
            "Using 16bit Automatic Mixed Precision (AMP)\n",
            "Using default `ModelCheckpoint`. Consider installing `litmodels` package to enable `LitModelCheckpoint` for automatic upload to the Lightning model registry.\n",
            "GPU available: True (cuda), used: True\n",
            "TPU available: False, using: 0 TPU cores\n",
            "HPU available: False, using: 0 HPUs\n"
          ]
        }
      ],
      "source": [
        "trainer = RL4COTrainer(\n",
        "    max_epochs=20,\n",
        "    accelerator=accelerator,\n",
        "    devices=1,\n",
        "    logger=loggers,\n",
        "    log_every_n_steps=20\n",
        ")"
      ]
    },
    {
      "cell_type": "code",
      "execution_count": 152,
      "id": "c4197aa5-180a-4e32-9b7c-9066df1fc623",
      "metadata": {},
      "outputs": [
        {
          "name": "stderr",
          "output_type": "stream",
          "text": [
            "val_file not set. Generating dataset instead\n",
            "test_file not set. Generating dataset instead\n",
            "LOCAL_RANK: 0 - CUDA_VISIBLE_DEVICES: [0]\n",
            "\n",
            "  | Name     | Type           | Params | Mode \n",
            "----------------------------------------------------\n",
            "0 | env      | FJSPEnvMOPM    | 0      | eval \n",
            "1 | policy   | L2DPolicy      | 149 K  | train\n",
            "2 | baseline | WarmupBaseline | 149 K  | train\n",
            "----------------------------------------------------\n",
            "136 K     Trainable params\n",
            "162 K     Non-trainable params\n",
            "298 K     Total params\n",
            "1.195     Total estimated model params size (MB)\n",
            "59        Modules in train mode\n",
            "195       Modules in eval mode\n"
          ]
        },
        {
          "data": {
            "application/vnd.jupyter.widget-view+json": {
              "model_id": "f697f79cb96849c9a04bd98fa2fe9ebe",
              "version_major": 2,
              "version_minor": 0
            },
            "text/plain": [
              "Sanity Checking: |          | 0/? [00:00<?, ?it/s]"
            ]
          },
          "metadata": {},
          "output_type": "display_data"
        },
        {
          "data": {
            "application/vnd.jupyter.widget-view+json": {
              "model_id": "dab4e999c3e04b58bd5fd10e599f9f06",
              "version_major": 2,
              "version_minor": 0
            },
            "text/plain": [
              "Training: |          | 0/? [00:00<?, ?it/s]"
            ]
          },
          "metadata": {},
          "output_type": "display_data"
        },
        {
          "data": {
            "application/vnd.jupyter.widget-view+json": {
              "model_id": "7ada208f46034e6ebd214ee10e42a012",
              "version_major": 2,
              "version_minor": 0
            },
            "text/plain": [
              "Validation: |          | 0/? [00:00<?, ?it/s]"
            ]
          },
          "metadata": {},
          "output_type": "display_data"
        },
        {
          "data": {
            "application/vnd.jupyter.widget-view+json": {
              "model_id": "c43b867681864cba920868d9383fee35",
              "version_major": 2,
              "version_minor": 0
            },
            "text/plain": [
              "Validation: |          | 0/? [00:00<?, ?it/s]"
            ]
          },
          "metadata": {},
          "output_type": "display_data"
        },
        {
          "data": {
            "application/vnd.jupyter.widget-view+json": {
              "model_id": "75a7ce7eeac843a18fb2b5dff665d0ec",
              "version_major": 2,
              "version_minor": 0
            },
            "text/plain": [
              "Validation: |          | 0/? [00:00<?, ?it/s]"
            ]
          },
          "metadata": {},
          "output_type": "display_data"
        },
        {
          "data": {
            "application/vnd.jupyter.widget-view+json": {
              "model_id": "a93da1cca83242e7b507fa56659ef105",
              "version_major": 2,
              "version_minor": 0
            },
            "text/plain": [
              "Validation: |          | 0/? [00:00<?, ?it/s]"
            ]
          },
          "metadata": {},
          "output_type": "display_data"
        },
        {
          "data": {
            "application/vnd.jupyter.widget-view+json": {
              "model_id": "c1c7647c87a04279aa23dd118cfb051d",
              "version_major": 2,
              "version_minor": 0
            },
            "text/plain": [
              "Validation: |          | 0/? [00:00<?, ?it/s]"
            ]
          },
          "metadata": {},
          "output_type": "display_data"
        },
        {
          "data": {
            "application/vnd.jupyter.widget-view+json": {
              "model_id": "3c157d71db6e43c0a1b9585d456556a8",
              "version_major": 2,
              "version_minor": 0
            },
            "text/plain": [
              "Validation: |          | 0/? [00:00<?, ?it/s]"
            ]
          },
          "metadata": {},
          "output_type": "display_data"
        },
        {
          "data": {
            "application/vnd.jupyter.widget-view+json": {
              "model_id": "2dd7c0672b4c49c0b5b9b511a65eed1c",
              "version_major": 2,
              "version_minor": 0
            },
            "text/plain": [
              "Validation: |          | 0/? [00:00<?, ?it/s]"
            ]
          },
          "metadata": {},
          "output_type": "display_data"
        },
        {
          "data": {
            "application/vnd.jupyter.widget-view+json": {
              "model_id": "4ca4ac005332460f840aea2522ce93b7",
              "version_major": 2,
              "version_minor": 0
            },
            "text/plain": [
              "Validation: |          | 0/? [00:00<?, ?it/s]"
            ]
          },
          "metadata": {},
          "output_type": "display_data"
        },
        {
          "data": {
            "application/vnd.jupyter.widget-view+json": {
              "model_id": "212c74214b5c4310b6faa8bc0599592b",
              "version_major": 2,
              "version_minor": 0
            },
            "text/plain": [
              "Validation: |          | 0/? [00:00<?, ?it/s]"
            ]
          },
          "metadata": {},
          "output_type": "display_data"
        },
        {
          "data": {
            "application/vnd.jupyter.widget-view+json": {
              "model_id": "6c677ae3f4f54ebdab839499d5259d90",
              "version_major": 2,
              "version_minor": 0
            },
            "text/plain": [
              "Validation: |          | 0/? [00:00<?, ?it/s]"
            ]
          },
          "metadata": {},
          "output_type": "display_data"
        },
        {
          "data": {
            "application/vnd.jupyter.widget-view+json": {
              "model_id": "691412ef6e414b369130ef2f7e6c17a1",
              "version_major": 2,
              "version_minor": 0
            },
            "text/plain": [
              "Validation: |          | 0/? [00:00<?, ?it/s]"
            ]
          },
          "metadata": {},
          "output_type": "display_data"
        },
        {
          "data": {
            "application/vnd.jupyter.widget-view+json": {
              "model_id": "7471265085a94ba7adb3d3300ea3b42b",
              "version_major": 2,
              "version_minor": 0
            },
            "text/plain": [
              "Validation: |          | 0/? [00:00<?, ?it/s]"
            ]
          },
          "metadata": {},
          "output_type": "display_data"
        },
        {
          "data": {
            "application/vnd.jupyter.widget-view+json": {
              "model_id": "a175b427c3284d89a08b85a0d0ea0fed",
              "version_major": 2,
              "version_minor": 0
            },
            "text/plain": [
              "Validation: |          | 0/? [00:00<?, ?it/s]"
            ]
          },
          "metadata": {},
          "output_type": "display_data"
        },
        {
          "data": {
            "application/vnd.jupyter.widget-view+json": {
              "model_id": "286c6acf118d4199946c85fa0fe40e86",
              "version_major": 2,
              "version_minor": 0
            },
            "text/plain": [
              "Validation: |          | 0/? [00:00<?, ?it/s]"
            ]
          },
          "metadata": {},
          "output_type": "display_data"
        },
        {
          "data": {
            "application/vnd.jupyter.widget-view+json": {
              "model_id": "28670c6ab5604b649cdcd376e030ca9a",
              "version_major": 2,
              "version_minor": 0
            },
            "text/plain": [
              "Validation: |          | 0/? [00:00<?, ?it/s]"
            ]
          },
          "metadata": {},
          "output_type": "display_data"
        },
        {
          "data": {
            "application/vnd.jupyter.widget-view+json": {
              "model_id": "aa23d5335c334a3a976b63a1e61109e8",
              "version_major": 2,
              "version_minor": 0
            },
            "text/plain": [
              "Validation: |          | 0/? [00:00<?, ?it/s]"
            ]
          },
          "metadata": {},
          "output_type": "display_data"
        },
        {
          "data": {
            "application/vnd.jupyter.widget-view+json": {
              "model_id": "c5fee975d9d348dba8529e13c6716e99",
              "version_major": 2,
              "version_minor": 0
            },
            "text/plain": [
              "Validation: |          | 0/? [00:00<?, ?it/s]"
            ]
          },
          "metadata": {},
          "output_type": "display_data"
        },
        {
          "data": {
            "application/vnd.jupyter.widget-view+json": {
              "model_id": "33e6890cb4c6479082b88674d5ec5cac",
              "version_major": 2,
              "version_minor": 0
            },
            "text/plain": [
              "Validation: |          | 0/? [00:00<?, ?it/s]"
            ]
          },
          "metadata": {},
          "output_type": "display_data"
        },
        {
          "data": {
            "application/vnd.jupyter.widget-view+json": {
              "model_id": "a0d7c7cf90cd490dacd09f43a7d9da3d",
              "version_major": 2,
              "version_minor": 0
            },
            "text/plain": [
              "Validation: |          | 0/? [00:00<?, ?it/s]"
            ]
          },
          "metadata": {},
          "output_type": "display_data"
        },
        {
          "data": {
            "application/vnd.jupyter.widget-view+json": {
              "model_id": "a40b5dd83d8e4262bba927dab0528381",
              "version_major": 2,
              "version_minor": 0
            },
            "text/plain": [
              "Validation: |          | 0/? [00:00<?, ?it/s]"
            ]
          },
          "metadata": {},
          "output_type": "display_data"
        },
        {
          "name": "stderr",
          "output_type": "stream",
          "text": [
            "`Trainer.fit` stopped: `max_epochs=20` reached.\n"
          ]
        }
      ],
      "source": [
        "trainer.fit(new_mix_model)"
      ]
    },
    {
      "cell_type": "code",
      "execution_count": 5,
      "id": "aa13bb83-aba9-4b33-b6c8-4ceeeef9f54f",
      "metadata": {},
      "outputs": [],
      "source": [
        "metrics3 = pd.read_csv(\"./new_mix_model/csv_logs/version_0/metrics.csv\")\n",
        "metrics3[\"val/reward\"] = -metrics3[\"val/reward\"].shift(-1)\n",
        "metrics3[\"train/reward\"] = -metrics3[\"train/reward\"]"
      ]
    },
    {
      "cell_type": "code",
      "execution_count": null,
      "id": "9227ff1e-d3f9-4645-a5b0-abe35d66eebb",
      "metadata": {},
      "outputs": [],
      "source": [
        "px.line(data_frame=metrics3.dropna(), x=\"step\", y=[\"train/reward\", \"val/reward\"])"
      ]
    },
    {
      "cell_type": "code",
      "execution_count": null,
      "id": "c2326824-dec8-438f-b7f7-d3d7fd8aa3ed",
      "metadata": {},
      "outputs": [],
      "source": []
    },
    {
      "cell_type": "code",
      "execution_count": null,
      "id": "4e4f929a-9a96-47c9-9c0d-6e62329abc6a",
      "metadata": {},
      "outputs": [],
      "source": []
    },
    {
      "cell_type": "code",
      "execution_count": null,
      "id": "5d0a7de5-3db1-4cf7-9a16-4754546c7720",
      "metadata": {},
      "outputs": [],
      "source": []
    },
    {
      "cell_type": "code",
      "execution_count": null,
      "id": "bbac092f-3f5a-44b1-bd66-a5cf8375c06c",
      "metadata": {},
      "outputs": [],
      "source": []
    },
    {
      "cell_type": "code",
      "execution_count": null,
      "id": "52cb8814-46c7-4666-88f8-bba77ed21a9e",
      "metadata": {},
      "outputs": [],
      "source": []
    },
    {
      "cell_type": "code",
      "execution_count": null,
      "id": "a9511bef-e1ab-4f68-983b-1bbb2bbc4ba5",
      "metadata": {},
      "outputs": [],
      "source": []
    },
    {
      "cell_type": "code",
      "execution_count": null,
      "id": "dee4addf-5580-4794-a252-e200f448153a",
      "metadata": {},
      "outputs": [],
      "source": []
    },
    {
      "cell_type": "code",
      "execution_count": null,
      "id": "2e45eddc-14d8-4f26-ac9b-6e6d00452e7f",
      "metadata": {},
      "outputs": [],
      "source": []
    },
    {
      "cell_type": "code",
      "execution_count": null,
      "id": "db060ed7-3952-4174-acc5-ddbd7224496e",
      "metadata": {},
      "outputs": [],
      "source": []
    },
    {
      "cell_type": "code",
      "execution_count": null,
      "id": "55929306-5d9b-46c4-a6bd-33044425ee93",
      "metadata": {},
      "outputs": [],
      "source": []
    },
    {
      "cell_type": "code",
      "execution_count": null,
      "id": "223dea57-59cd-4de1-936b-10f073f29ec6",
      "metadata": {},
      "outputs": [],
      "source": []
    }
  ],
  "metadata": {
    "kernelspec": {
      "display_name": ".venv",
      "language": "python",
      "name": "python3"
    },
    "language_info": {
      "codemirror_mode": {
        "name": "ipython",
        "version": 3
      },
      "file_extension": ".py",
      "mimetype": "text/x-python",
      "name": "python",
      "nbconvert_exporter": "python",
      "pygments_lexer": "ipython3",
      "version": "3.10.12"
    }
  },
  "nbformat": 4,
  "nbformat_minor": 5
}
