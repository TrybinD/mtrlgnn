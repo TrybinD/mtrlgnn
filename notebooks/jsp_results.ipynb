{
 "cells": [
  {
   "cell_type": "markdown",
   "metadata": {},
   "source": [
    "Метрики на FJSP"
   ]
  },
  {
   "cell_type": "code",
   "execution_count": 1,
   "metadata": {},
   "outputs": [
    {
     "name": "stderr",
     "output_type": "stream",
     "text": [
      "/home/daniil/programming/diplom/mtrlgnn/.venv/lib/python3.10/site-packages/torch/cuda/__init__.py:129: UserWarning: CUDA initialization: CUDA unknown error - this may be due to an incorrectly set up environment, e.g. changing env variable CUDA_VISIBLE_DEVICES after program start. Setting the available devices to be zero. (Triggered internally at /pytorch/c10/cuda/CUDAFunctions.cpp:109.)\n",
      "  return torch._C._cuda_getDeviceCount() > 0\n"
     ]
    }
   ],
   "source": [
    "from src.datasets import FJSPBenchmarksDataset\n",
    "\n",
    "from src.solvers.jsp.fjsp.heuristic.dispatching_rules import FJSPFIFOSolver, FJSPMOPNRSolver, FJSPSTPSolver, FJSPMWKRSolver\n",
    "from src.solvers.jsp.fjsp.heuristic.random_search import FJSPRandomSolver\n",
    "from src.solvers.jsp.fjsp.exact.or_tools import FJSPORToolsSolver\n",
    "from src.solvers.jsp.fjsp.rl4co.l2d import FJSPL2DSolver\n",
    "from tqdm import tqdm\n",
    "\n",
    "from time import time\n",
    "\n",
    "import pandas as pd\n",
    "\n",
    "import torch"
   ]
  },
  {
   "cell_type": "code",
   "execution_count": 2,
   "metadata": {},
   "outputs": [],
   "source": [
    "bench_list = [\"Brandimarte\", \"Hurink_edata\", \"Hurink_rdata\", \"Hurink_vdata\"]"
   ]
  },
  {
   "cell_type": "code",
   "execution_count": 3,
   "metadata": {},
   "outputs": [],
   "source": [
    "results = {}\n",
    "times_results = {}"
   ]
  },
  {
   "cell_type": "code",
   "execution_count": 4,
   "metadata": {},
   "outputs": [
    {
     "name": "stdout",
     "output_type": "stream",
     "text": [
      "Brandimarte\n"
     ]
    },
    {
     "name": "stderr",
     "output_type": "stream",
     "text": [
      "100%|██████████| 10/10 [00:20<00:00,  2.06s/it]\n"
     ]
    },
    {
     "name": "stdout",
     "output_type": "stream",
     "text": [
      "Hurink_edata\n"
     ]
    },
    {
     "name": "stderr",
     "output_type": "stream",
     "text": [
      "100%|██████████| 40/40 [01:31<00:00,  2.28s/it]\n"
     ]
    },
    {
     "name": "stdout",
     "output_type": "stream",
     "text": [
      "Hurink_rdata\n"
     ]
    },
    {
     "name": "stderr",
     "output_type": "stream",
     "text": [
      "100%|██████████| 40/40 [01:29<00:00,  2.23s/it]\n"
     ]
    },
    {
     "name": "stdout",
     "output_type": "stream",
     "text": [
      "Hurink_vdata\n"
     ]
    },
    {
     "name": "stderr",
     "output_type": "stream",
     "text": [
      "100%|██████████| 40/40 [01:31<00:00,  2.30s/it]\n"
     ]
    }
   ],
   "source": [
    "for bench in bench_list:\n",
    "    dataset = FJSPBenchmarksDataset(file_pattern=f\"../data/jsp/benchmarks/{bench}/*.fjs\")\n",
    "    print(bench)\n",
    "    costs = {\"FJSPFIFOSolver\": [], \"FJSPMOPNRSolver\": [], \"FJSPSTPSolver\": [], \"FJSPMWKRSolver\": [], \"Best DR\": []}\n",
    "    times = {\"FJSPFIFOSolver\": [], \"FJSPMOPNRSolver\": [], \"FJSPSTPSolver\": [], \"FJSPMWKRSolver\": [], \"Best DR\": []}\n",
    "    for inst, _ in tqdm(dataset):\n",
    "        res = []\n",
    "        full_time = 0\n",
    "\n",
    "        for solver_name, solver in [(\"FJSPFIFOSolver\", FJSPFIFOSolver()), (\"FJSPMOPNRSolver\", FJSPMOPNRSolver()), \n",
    "                                    (\"FJSPSTPSolver\", FJSPSTPSolver()), (\"FJSPMWKRSolver\", FJSPMWKRSolver())]:\n",
    "            \n",
    "            try:\n",
    "\n",
    "                start = time()\n",
    "                solution = solver.solve(inst)\n",
    "                cost = inst.total_cost(solution)\n",
    "                times[solver_name].append(time()-start)\n",
    "                costs[solver_name].append(cost)\n",
    "                \n",
    "                full_time += time()-start\n",
    "                res.append(cost)\n",
    "\n",
    "            except AssertionError:\n",
    "                print(solver_name)\n",
    "\n",
    "\n",
    "        costs[\"Best DR\"].append(min(res))\n",
    "        times[\"Best DR\"].append(full_time)\n",
    "\n",
    "    results[bench] = {solver: sum(stats)/len(stats) for solver, stats in costs.items()}\n",
    "    times_results[bench] = {solver: sum(stats)/len(stats) for solver, stats in times.items()}"
   ]
  },
  {
   "cell_type": "code",
   "execution_count": 5,
   "metadata": {},
   "outputs": [
    {
     "data": {
      "text/html": [
       "<div>\n",
       "<style scoped>\n",
       "    .dataframe tbody tr th:only-of-type {\n",
       "        vertical-align: middle;\n",
       "    }\n",
       "\n",
       "    .dataframe tbody tr th {\n",
       "        vertical-align: top;\n",
       "    }\n",
       "\n",
       "    .dataframe thead th {\n",
       "        text-align: right;\n",
       "    }\n",
       "</style>\n",
       "<table border=\"1\" class=\"dataframe\">\n",
       "  <thead>\n",
       "    <tr style=\"text-align: right;\">\n",
       "      <th></th>\n",
       "      <th>FJSPFIFOSolver</th>\n",
       "      <th>FJSPMOPNRSolver</th>\n",
       "      <th>FJSPSTPSolver</th>\n",
       "      <th>FJSPMWKRSolver</th>\n",
       "      <th>Best DR</th>\n",
       "    </tr>\n",
       "  </thead>\n",
       "  <tbody>\n",
       "    <tr>\n",
       "      <th>Brandimarte</th>\n",
       "      <td>250.400</td>\n",
       "      <td>205.800</td>\n",
       "      <td>239.600</td>\n",
       "      <td>200.800</td>\n",
       "      <td>197.40</td>\n",
       "    </tr>\n",
       "    <tr>\n",
       "      <th>Hurink_edata</th>\n",
       "      <td>1387.075</td>\n",
       "      <td>1206.425</td>\n",
       "      <td>1304.325</td>\n",
       "      <td>1203.150</td>\n",
       "      <td>1174.95</td>\n",
       "    </tr>\n",
       "    <tr>\n",
       "      <th>Hurink_rdata</th>\n",
       "      <td>1211.125</td>\n",
       "      <td>1061.075</td>\n",
       "      <td>1193.725</td>\n",
       "      <td>1045.425</td>\n",
       "      <td>1030.15</td>\n",
       "    </tr>\n",
       "    <tr>\n",
       "      <th>Hurink_vdata</th>\n",
       "      <td>1078.550</td>\n",
       "      <td>969.550</td>\n",
       "      <td>1079.275</td>\n",
       "      <td>947.650</td>\n",
       "      <td>943.90</td>\n",
       "    </tr>\n",
       "  </tbody>\n",
       "</table>\n",
       "</div>"
      ],
      "text/plain": [
       "              FJSPFIFOSolver  FJSPMOPNRSolver  FJSPSTPSolver  FJSPMWKRSolver  \\\n",
       "Brandimarte          250.400          205.800        239.600         200.800   \n",
       "Hurink_edata        1387.075         1206.425       1304.325        1203.150   \n",
       "Hurink_rdata        1211.125         1061.075       1193.725        1045.425   \n",
       "Hurink_vdata        1078.550          969.550       1079.275         947.650   \n",
       "\n",
       "              Best DR  \n",
       "Brandimarte    197.40  \n",
       "Hurink_edata  1174.95  \n",
       "Hurink_rdata  1030.15  \n",
       "Hurink_vdata   943.90  "
      ]
     },
     "execution_count": 5,
     "metadata": {},
     "output_type": "execute_result"
    }
   ],
   "source": [
    "results_df  = pd.DataFrame(results).T\n",
    "results_df"
   ]
  },
  {
   "cell_type": "code",
   "execution_count": 6,
   "metadata": {},
   "outputs": [
    {
     "data": {
      "text/html": [
       "<div>\n",
       "<style scoped>\n",
       "    .dataframe tbody tr th:only-of-type {\n",
       "        vertical-align: middle;\n",
       "    }\n",
       "\n",
       "    .dataframe tbody tr th {\n",
       "        vertical-align: top;\n",
       "    }\n",
       "\n",
       "    .dataframe thead th {\n",
       "        text-align: right;\n",
       "    }\n",
       "</style>\n",
       "<table border=\"1\" class=\"dataframe\">\n",
       "  <thead>\n",
       "    <tr style=\"text-align: right;\">\n",
       "      <th></th>\n",
       "      <th>FJSPFIFOSolver</th>\n",
       "      <th>FJSPMOPNRSolver</th>\n",
       "      <th>FJSPSTPSolver</th>\n",
       "      <th>FJSPMWKRSolver</th>\n",
       "      <th>Best DR</th>\n",
       "    </tr>\n",
       "  </thead>\n",
       "  <tbody>\n",
       "    <tr>\n",
       "      <th>Brandimarte</th>\n",
       "      <td>0.510726</td>\n",
       "      <td>0.512156</td>\n",
       "      <td>0.496552</td>\n",
       "      <td>0.531978</td>\n",
       "      <td>2.051420</td>\n",
       "    </tr>\n",
       "    <tr>\n",
       "      <th>Hurink_edata</th>\n",
       "      <td>0.560045</td>\n",
       "      <td>0.563278</td>\n",
       "      <td>0.548919</td>\n",
       "      <td>0.599114</td>\n",
       "      <td>2.271363</td>\n",
       "    </tr>\n",
       "    <tr>\n",
       "      <th>Hurink_rdata</th>\n",
       "      <td>0.558153</td>\n",
       "      <td>0.550540</td>\n",
       "      <td>0.532378</td>\n",
       "      <td>0.573923</td>\n",
       "      <td>2.215000</td>\n",
       "    </tr>\n",
       "    <tr>\n",
       "      <th>Hurink_vdata</th>\n",
       "      <td>0.562929</td>\n",
       "      <td>0.565385</td>\n",
       "      <td>0.553577</td>\n",
       "      <td>0.602010</td>\n",
       "      <td>2.283907</td>\n",
       "    </tr>\n",
       "  </tbody>\n",
       "</table>\n",
       "</div>"
      ],
      "text/plain": [
       "              FJSPFIFOSolver  FJSPMOPNRSolver  FJSPSTPSolver  FJSPMWKRSolver  \\\n",
       "Brandimarte         0.510726         0.512156       0.496552        0.531978   \n",
       "Hurink_edata        0.560045         0.563278       0.548919        0.599114   \n",
       "Hurink_rdata        0.558153         0.550540       0.532378        0.573923   \n",
       "Hurink_vdata        0.562929         0.565385       0.553577        0.602010   \n",
       "\n",
       "               Best DR  \n",
       "Brandimarte   2.051420  \n",
       "Hurink_edata  2.271363  \n",
       "Hurink_rdata  2.215000  \n",
       "Hurink_vdata  2.283907  "
      ]
     },
     "execution_count": 6,
     "metadata": {},
     "output_type": "execute_result"
    }
   ],
   "source": [
    "times_results_df = pd.DataFrame(times_results).T\n",
    "times_results_df"
   ]
  },
  {
   "cell_type": "code",
   "execution_count": 7,
   "metadata": {},
   "outputs": [],
   "source": [
    "df_full_result = pd.concat([results_df.T, times_results_df.T], axis=1, keys=['Cost', 'Time'])"
   ]
  },
  {
   "cell_type": "code",
   "execution_count": 8,
   "metadata": {},
   "outputs": [
    {
     "data": {
      "text/html": [
       "<div>\n",
       "<style scoped>\n",
       "    .dataframe tbody tr th:only-of-type {\n",
       "        vertical-align: middle;\n",
       "    }\n",
       "\n",
       "    .dataframe tbody tr th {\n",
       "        vertical-align: top;\n",
       "    }\n",
       "\n",
       "    .dataframe thead tr th {\n",
       "        text-align: left;\n",
       "    }\n",
       "</style>\n",
       "<table border=\"1\" class=\"dataframe\">\n",
       "  <thead>\n",
       "    <tr>\n",
       "      <th></th>\n",
       "      <th colspan=\"2\" halign=\"left\">Brandimarte</th>\n",
       "      <th colspan=\"2\" halign=\"left\">Hurink_edata</th>\n",
       "      <th colspan=\"2\" halign=\"left\">Hurink_rdata</th>\n",
       "      <th colspan=\"2\" halign=\"left\">Hurink_vdata</th>\n",
       "    </tr>\n",
       "    <tr>\n",
       "      <th></th>\n",
       "      <th>Cost</th>\n",
       "      <th>Time</th>\n",
       "      <th>Cost</th>\n",
       "      <th>Time</th>\n",
       "      <th>Cost</th>\n",
       "      <th>Time</th>\n",
       "      <th>Cost</th>\n",
       "      <th>Time</th>\n",
       "    </tr>\n",
       "  </thead>\n",
       "  <tbody>\n",
       "    <tr>\n",
       "      <th>FJSPFIFOSolver</th>\n",
       "      <td>250.4</td>\n",
       "      <td>0.510726</td>\n",
       "      <td>1387.075</td>\n",
       "      <td>0.560045</td>\n",
       "      <td>1211.125</td>\n",
       "      <td>0.558153</td>\n",
       "      <td>1078.550</td>\n",
       "      <td>0.562929</td>\n",
       "    </tr>\n",
       "    <tr>\n",
       "      <th>FJSPMOPNRSolver</th>\n",
       "      <td>205.8</td>\n",
       "      <td>0.512156</td>\n",
       "      <td>1206.425</td>\n",
       "      <td>0.563278</td>\n",
       "      <td>1061.075</td>\n",
       "      <td>0.550540</td>\n",
       "      <td>969.550</td>\n",
       "      <td>0.565385</td>\n",
       "    </tr>\n",
       "    <tr>\n",
       "      <th>FJSPSTPSolver</th>\n",
       "      <td>239.6</td>\n",
       "      <td>0.496552</td>\n",
       "      <td>1304.325</td>\n",
       "      <td>0.548919</td>\n",
       "      <td>1193.725</td>\n",
       "      <td>0.532378</td>\n",
       "      <td>1079.275</td>\n",
       "      <td>0.553577</td>\n",
       "    </tr>\n",
       "    <tr>\n",
       "      <th>FJSPMWKRSolver</th>\n",
       "      <td>200.8</td>\n",
       "      <td>0.531978</td>\n",
       "      <td>1203.150</td>\n",
       "      <td>0.599114</td>\n",
       "      <td>1045.425</td>\n",
       "      <td>0.573923</td>\n",
       "      <td>947.650</td>\n",
       "      <td>0.602010</td>\n",
       "    </tr>\n",
       "    <tr>\n",
       "      <th>Best DR</th>\n",
       "      <td>197.4</td>\n",
       "      <td>2.051420</td>\n",
       "      <td>1174.950</td>\n",
       "      <td>2.271363</td>\n",
       "      <td>1030.150</td>\n",
       "      <td>2.215000</td>\n",
       "      <td>943.900</td>\n",
       "      <td>2.283907</td>\n",
       "    </tr>\n",
       "  </tbody>\n",
       "</table>\n",
       "</div>"
      ],
      "text/plain": [
       "                Brandimarte           Hurink_edata           Hurink_rdata  \\\n",
       "                       Cost      Time         Cost      Time         Cost   \n",
       "FJSPFIFOSolver        250.4  0.510726     1387.075  0.560045     1211.125   \n",
       "FJSPMOPNRSolver       205.8  0.512156     1206.425  0.563278     1061.075   \n",
       "FJSPSTPSolver         239.6  0.496552     1304.325  0.548919     1193.725   \n",
       "FJSPMWKRSolver        200.8  0.531978     1203.150  0.599114     1045.425   \n",
       "Best DR               197.4  2.051420     1174.950  2.271363     1030.150   \n",
       "\n",
       "                          Hurink_vdata            \n",
       "                     Time         Cost      Time  \n",
       "FJSPFIFOSolver   0.558153     1078.550  0.562929  \n",
       "FJSPMOPNRSolver  0.550540      969.550  0.565385  \n",
       "FJSPSTPSolver    0.532378     1079.275  0.553577  \n",
       "FJSPMWKRSolver   0.573923      947.650  0.602010  \n",
       "Best DR          2.215000      943.900  2.283907  "
      ]
     },
     "execution_count": 8,
     "metadata": {},
     "output_type": "execute_result"
    }
   ],
   "source": [
    "df_full_result.swaplevel(axis=1).sort_index(axis=1)"
   ]
  },
  {
   "cell_type": "code",
   "execution_count": 4,
   "metadata": {},
   "outputs": [],
   "source": [
    "results = {}\n",
    "times_results = {}"
   ]
  },
  {
   "cell_type": "code",
   "execution_count": 9,
   "metadata": {},
   "outputs": [
    {
     "name": "stdout",
     "output_type": "stream",
     "text": [
      "Brandimarte\n"
     ]
    },
    {
     "name": "stderr",
     "output_type": "stream",
     "text": [
      "100%|██████████| 10/10 [01:11<00:00,  7.18s/it]\n"
     ]
    },
    {
     "name": "stdout",
     "output_type": "stream",
     "text": [
      "Hurink_edata\n"
     ]
    },
    {
     "name": "stderr",
     "output_type": "stream",
     "text": [
      "100%|██████████| 40/40 [03:27<00:00,  5.20s/it]\n"
     ]
    },
    {
     "name": "stdout",
     "output_type": "stream",
     "text": [
      "Hurink_rdata\n"
     ]
    },
    {
     "name": "stderr",
     "output_type": "stream",
     "text": [
      "100%|██████████| 40/40 [06:20<00:00,  9.50s/it]\n"
     ]
    },
    {
     "name": "stdout",
     "output_type": "stream",
     "text": [
      "Hurink_vdata\n"
     ]
    },
    {
     "name": "stderr",
     "output_type": "stream",
     "text": [
      "100%|██████████| 40/40 [06:40<00:00, 10.00s/it]\n"
     ]
    }
   ],
   "source": [
    "for bench in bench_list:\n",
    "    dataset = FJSPBenchmarksDataset(file_pattern=f\"../data/jsp/benchmarks/{bench}/*.fjs\")\n",
    "    print(bench)\n",
    "    costs = {\"FJSPORToolsSolver\": []}\n",
    "    times = {\"FJSPORToolsSolver\": []}\n",
    "    for inst, _ in tqdm(dataset):\n",
    "\n",
    "        for solver_name, solver in [(\"FJSPORToolsSolver\", FJSPORToolsSolver(time_limit=10))]:\n",
    "            # try:\n",
    "\n",
    "            start = time()\n",
    "            solution = solver.solve(inst)\n",
    "            cost = inst.total_cost(solution)\n",
    "            costs[solver_name].append(cost)\n",
    "            times[solver_name].append(time()-start)\n",
    "\n",
    "            # except AssertionError as e:\n",
    "            #     print(solver_name, e)\n",
    "\n",
    "    results[bench] = {solver: sum(stats)/len(stats) for solver, stats in costs.items()}\n",
    "    times_results[bench] = {solver: sum(stats)/len(stats) for solver, stats in times.items()}"
   ]
  },
  {
   "cell_type": "code",
   "execution_count": 10,
   "metadata": {},
   "outputs": [
    {
     "data": {
      "text/html": [
       "<div>\n",
       "<style scoped>\n",
       "    .dataframe tbody tr th:only-of-type {\n",
       "        vertical-align: middle;\n",
       "    }\n",
       "\n",
       "    .dataframe tbody tr th {\n",
       "        vertical-align: top;\n",
       "    }\n",
       "\n",
       "    .dataframe thead th {\n",
       "        text-align: right;\n",
       "    }\n",
       "</style>\n",
       "<table border=\"1\" class=\"dataframe\">\n",
       "  <thead>\n",
       "    <tr style=\"text-align: right;\">\n",
       "      <th></th>\n",
       "      <th>FJSPORToolsSolver</th>\n",
       "    </tr>\n",
       "  </thead>\n",
       "  <tbody>\n",
       "    <tr>\n",
       "      <th>Brandimarte</th>\n",
       "      <td>182.800</td>\n",
       "    </tr>\n",
       "    <tr>\n",
       "      <th>Hurink_edata</th>\n",
       "      <td>1039.125</td>\n",
       "    </tr>\n",
       "    <tr>\n",
       "      <th>Hurink_rdata</th>\n",
       "      <td>966.325</td>\n",
       "    </tr>\n",
       "    <tr>\n",
       "      <th>Hurink_vdata</th>\n",
       "      <td>1063.500</td>\n",
       "    </tr>\n",
       "  </tbody>\n",
       "</table>\n",
       "</div>"
      ],
      "text/plain": [
       "              FJSPORToolsSolver\n",
       "Brandimarte             182.800\n",
       "Hurink_edata           1039.125\n",
       "Hurink_rdata            966.325\n",
       "Hurink_vdata           1063.500"
      ]
     },
     "execution_count": 10,
     "metadata": {},
     "output_type": "execute_result"
    }
   ],
   "source": [
    "results_df  = pd.DataFrame(results).T\n",
    "results_df"
   ]
  },
  {
   "cell_type": "code",
   "execution_count": 12,
   "metadata": {},
   "outputs": [
    {
     "data": {
      "text/html": [
       "<div>\n",
       "<style scoped>\n",
       "    .dataframe tbody tr th:only-of-type {\n",
       "        vertical-align: middle;\n",
       "    }\n",
       "\n",
       "    .dataframe tbody tr th {\n",
       "        vertical-align: top;\n",
       "    }\n",
       "\n",
       "    .dataframe thead th {\n",
       "        text-align: right;\n",
       "    }\n",
       "</style>\n",
       "<table border=\"1\" class=\"dataframe\">\n",
       "  <thead>\n",
       "    <tr style=\"text-align: right;\">\n",
       "      <th></th>\n",
       "      <th>FJSPORToolsSolver</th>\n",
       "    </tr>\n",
       "  </thead>\n",
       "  <tbody>\n",
       "    <tr>\n",
       "      <th>Brandimarte</th>\n",
       "      <td>7.170302</td>\n",
       "    </tr>\n",
       "    <tr>\n",
       "      <th>Hurink_edata</th>\n",
       "      <td>5.194067</td>\n",
       "    </tr>\n",
       "    <tr>\n",
       "      <th>Hurink_rdata</th>\n",
       "      <td>9.499462</td>\n",
       "    </tr>\n",
       "    <tr>\n",
       "      <th>Hurink_vdata</th>\n",
       "      <td>9.993426</td>\n",
       "    </tr>\n",
       "  </tbody>\n",
       "</table>\n",
       "</div>"
      ],
      "text/plain": [
       "              FJSPORToolsSolver\n",
       "Brandimarte            7.170302\n",
       "Hurink_edata           5.194067\n",
       "Hurink_rdata           9.499462\n",
       "Hurink_vdata           9.993426"
      ]
     },
     "execution_count": 12,
     "metadata": {},
     "output_type": "execute_result"
    }
   ],
   "source": [
    "times_results_df = pd.DataFrame(times_results).T\n",
    "times_results_df"
   ]
  },
  {
   "cell_type": "code",
   "execution_count": 13,
   "metadata": {},
   "outputs": [],
   "source": [
    "df_full_result = pd.concat([results_df.T, times_results_df.T], axis=1, keys=['Cost', 'Time'])"
   ]
  },
  {
   "cell_type": "code",
   "execution_count": 14,
   "metadata": {},
   "outputs": [
    {
     "data": {
      "text/html": [
       "<div>\n",
       "<style scoped>\n",
       "    .dataframe tbody tr th:only-of-type {\n",
       "        vertical-align: middle;\n",
       "    }\n",
       "\n",
       "    .dataframe tbody tr th {\n",
       "        vertical-align: top;\n",
       "    }\n",
       "\n",
       "    .dataframe thead tr th {\n",
       "        text-align: left;\n",
       "    }\n",
       "</style>\n",
       "<table border=\"1\" class=\"dataframe\">\n",
       "  <thead>\n",
       "    <tr>\n",
       "      <th></th>\n",
       "      <th colspan=\"2\" halign=\"left\">Brandimarte</th>\n",
       "      <th colspan=\"2\" halign=\"left\">Hurink_edata</th>\n",
       "      <th colspan=\"2\" halign=\"left\">Hurink_rdata</th>\n",
       "      <th colspan=\"2\" halign=\"left\">Hurink_vdata</th>\n",
       "    </tr>\n",
       "    <tr>\n",
       "      <th></th>\n",
       "      <th>Cost</th>\n",
       "      <th>Time</th>\n",
       "      <th>Cost</th>\n",
       "      <th>Time</th>\n",
       "      <th>Cost</th>\n",
       "      <th>Time</th>\n",
       "      <th>Cost</th>\n",
       "      <th>Time</th>\n",
       "    </tr>\n",
       "  </thead>\n",
       "  <tbody>\n",
       "    <tr>\n",
       "      <th>FJSPORToolsSolver</th>\n",
       "      <td>182.8</td>\n",
       "      <td>7.170302</td>\n",
       "      <td>1039.125</td>\n",
       "      <td>5.194067</td>\n",
       "      <td>966.325</td>\n",
       "      <td>9.499462</td>\n",
       "      <td>1063.5</td>\n",
       "      <td>9.993426</td>\n",
       "    </tr>\n",
       "  </tbody>\n",
       "</table>\n",
       "</div>"
      ],
      "text/plain": [
       "                  Brandimarte           Hurink_edata           Hurink_rdata  \\\n",
       "                         Cost      Time         Cost      Time         Cost   \n",
       "FJSPORToolsSolver       182.8  7.170302     1039.125  5.194067      966.325   \n",
       "\n",
       "                            Hurink_vdata            \n",
       "                       Time         Cost      Time  \n",
       "FJSPORToolsSolver  9.499462       1063.5  9.993426  "
      ]
     },
     "execution_count": 14,
     "metadata": {},
     "output_type": "execute_result"
    }
   ],
   "source": [
    "df_full_result.swaplevel(axis=1).sort_index(axis=1)"
   ]
  },
  {
   "cell_type": "code",
   "execution_count": 3,
   "metadata": {},
   "outputs": [],
   "source": [
    "results = {}\n",
    "times_results = {}"
   ]
  },
  {
   "cell_type": "code",
   "execution_count": 4,
   "metadata": {},
   "outputs": [],
   "source": [
    "accelerator = \"cpu\"\n",
    "batch_size = 32\n",
    "train_data_size = 1_000\n",
    "embed_dim = 64\n",
    "num_encoder_layers = 2"
   ]
  },
  {
   "cell_type": "code",
   "execution_count": 5,
   "metadata": {},
   "outputs": [],
   "source": [
    "l2d_solver = FJSPL2DSolver(train_data_size=train_data_size, batch_size=batch_size, max_epochs=15, accelerator=accelerator, lr=0.0001, val_data_size=1_000, \n",
    "                       embed_dim=embed_dim, num_encoder_layers=num_encoder_layers)"
   ]
  },
  {
   "cell_type": "code",
   "execution_count": 6,
   "metadata": {},
   "outputs": [],
   "source": [
    "checkpoint = torch.load(\"./checkpoints/l2d.pt\", weights_only=False)"
   ]
  },
  {
   "cell_type": "code",
   "execution_count": 7,
   "metadata": {},
   "outputs": [],
   "source": [
    "l2d_solver.policy = checkpoint"
   ]
  },
  {
   "cell_type": "code",
   "execution_count": 8,
   "metadata": {},
   "outputs": [
    {
     "name": "stdout",
     "output_type": "stream",
     "text": [
      "Brandimarte\n"
     ]
    },
    {
     "name": "stderr",
     "output_type": "stream",
     "text": [
      "100%|██████████| 10/10 [00:06<00:00,  1.67it/s]\n"
     ]
    },
    {
     "name": "stdout",
     "output_type": "stream",
     "text": [
      "Hurink_edata\n"
     ]
    },
    {
     "name": "stderr",
     "output_type": "stream",
     "text": [
      "100%|██████████| 40/40 [00:25<00:00,  1.58it/s]\n"
     ]
    },
    {
     "name": "stdout",
     "output_type": "stream",
     "text": [
      "Hurink_rdata\n"
     ]
    },
    {
     "name": "stderr",
     "output_type": "stream",
     "text": [
      "100%|██████████| 40/40 [00:25<00:00,  1.56it/s]\n"
     ]
    },
    {
     "name": "stdout",
     "output_type": "stream",
     "text": [
      "Hurink_vdata\n"
     ]
    },
    {
     "name": "stderr",
     "output_type": "stream",
     "text": [
      "100%|██████████| 40/40 [00:25<00:00,  1.56it/s]\n"
     ]
    }
   ],
   "source": [
    "for bench in bench_list:\n",
    "    dataset = FJSPBenchmarksDataset(file_pattern=f\"../data/jsp/benchmarks/{bench}/*.fjs\")\n",
    "    print(bench)\n",
    "    costs = {\"FJSPL2DSolver\": []}\n",
    "    times = {\"FJSPL2DSolver\": []}\n",
    "    for inst, _ in tqdm(dataset):\n",
    "\n",
    "        for solver_name, solver in [(\"FJSPL2DSolver\", l2d_solver)]:\n",
    "            \n",
    "            try:\n",
    "\n",
    "                start = time()\n",
    "                solution = solver.solve(inst)\n",
    "                cost = inst.total_cost(solution)\n",
    "                costs[solver_name].append(cost)\n",
    "                times[solver_name].append(time()-start)\n",
    "\n",
    "            except AssertionError as e:\n",
    "                print(solver_name, e)\n",
    "\n",
    "\n",
    "    results[bench] = {solver: sum(stats)/len(stats) for solver, stats in costs.items()}\n",
    "    times_results[bench] = {solver: sum(stats)/len(stats) for solver, stats in times.items()}"
   ]
  },
  {
   "cell_type": "code",
   "execution_count": 9,
   "metadata": {},
   "outputs": [
    {
     "data": {
      "text/html": [
       "<div>\n",
       "<style scoped>\n",
       "    .dataframe tbody tr th:only-of-type {\n",
       "        vertical-align: middle;\n",
       "    }\n",
       "\n",
       "    .dataframe tbody tr th {\n",
       "        vertical-align: top;\n",
       "    }\n",
       "\n",
       "    .dataframe thead th {\n",
       "        text-align: right;\n",
       "    }\n",
       "</style>\n",
       "<table border=\"1\" class=\"dataframe\">\n",
       "  <thead>\n",
       "    <tr style=\"text-align: right;\">\n",
       "      <th></th>\n",
       "      <th>FJSPL2DSolver</th>\n",
       "    </tr>\n",
       "  </thead>\n",
       "  <tbody>\n",
       "    <tr>\n",
       "      <th>Brandimarte</th>\n",
       "      <td>209.40</td>\n",
       "    </tr>\n",
       "    <tr>\n",
       "      <th>Hurink_edata</th>\n",
       "      <td>1291.55</td>\n",
       "    </tr>\n",
       "    <tr>\n",
       "      <th>Hurink_rdata</th>\n",
       "      <td>1075.40</td>\n",
       "    </tr>\n",
       "    <tr>\n",
       "      <th>Hurink_vdata</th>\n",
       "      <td>991.70</td>\n",
       "    </tr>\n",
       "  </tbody>\n",
       "</table>\n",
       "</div>"
      ],
      "text/plain": [
       "              FJSPL2DSolver\n",
       "Brandimarte          209.40\n",
       "Hurink_edata        1291.55\n",
       "Hurink_rdata        1075.40\n",
       "Hurink_vdata         991.70"
      ]
     },
     "execution_count": 9,
     "metadata": {},
     "output_type": "execute_result"
    }
   ],
   "source": [
    "results_df  = pd.DataFrame(results).T\n",
    "results_df"
   ]
  },
  {
   "cell_type": "code",
   "execution_count": 10,
   "metadata": {},
   "outputs": [
    {
     "data": {
      "text/html": [
       "<div>\n",
       "<style scoped>\n",
       "    .dataframe tbody tr th:only-of-type {\n",
       "        vertical-align: middle;\n",
       "    }\n",
       "\n",
       "    .dataframe tbody tr th {\n",
       "        vertical-align: top;\n",
       "    }\n",
       "\n",
       "    .dataframe thead th {\n",
       "        text-align: right;\n",
       "    }\n",
       "</style>\n",
       "<table border=\"1\" class=\"dataframe\">\n",
       "  <thead>\n",
       "    <tr style=\"text-align: right;\">\n",
       "      <th></th>\n",
       "      <th>FJSPL2DSolver</th>\n",
       "    </tr>\n",
       "  </thead>\n",
       "  <tbody>\n",
       "    <tr>\n",
       "      <th>Brandimarte</th>\n",
       "      <td>0.595196</td>\n",
       "    </tr>\n",
       "    <tr>\n",
       "      <th>Hurink_edata</th>\n",
       "      <td>0.630493</td>\n",
       "    </tr>\n",
       "    <tr>\n",
       "      <th>Hurink_rdata</th>\n",
       "      <td>0.635453</td>\n",
       "    </tr>\n",
       "    <tr>\n",
       "      <th>Hurink_vdata</th>\n",
       "      <td>0.632810</td>\n",
       "    </tr>\n",
       "  </tbody>\n",
       "</table>\n",
       "</div>"
      ],
      "text/plain": [
       "              FJSPL2DSolver\n",
       "Brandimarte        0.595196\n",
       "Hurink_edata       0.630493\n",
       "Hurink_rdata       0.635453\n",
       "Hurink_vdata       0.632810"
      ]
     },
     "execution_count": 10,
     "metadata": {},
     "output_type": "execute_result"
    }
   ],
   "source": [
    "times_results_df = pd.DataFrame(times_results).T\n",
    "times_results_df"
   ]
  },
  {
   "cell_type": "code",
   "execution_count": 11,
   "metadata": {},
   "outputs": [],
   "source": [
    "df_full_result = pd.concat([results_df.T, times_results_df.T], axis=1, keys=['Cost', 'Time'])"
   ]
  },
  {
   "cell_type": "code",
   "execution_count": 12,
   "metadata": {},
   "outputs": [
    {
     "data": {
      "text/html": [
       "<div>\n",
       "<style scoped>\n",
       "    .dataframe tbody tr th:only-of-type {\n",
       "        vertical-align: middle;\n",
       "    }\n",
       "\n",
       "    .dataframe tbody tr th {\n",
       "        vertical-align: top;\n",
       "    }\n",
       "\n",
       "    .dataframe thead tr th {\n",
       "        text-align: left;\n",
       "    }\n",
       "</style>\n",
       "<table border=\"1\" class=\"dataframe\">\n",
       "  <thead>\n",
       "    <tr>\n",
       "      <th></th>\n",
       "      <th colspan=\"2\" halign=\"left\">Brandimarte</th>\n",
       "      <th colspan=\"2\" halign=\"left\">Hurink_edata</th>\n",
       "      <th colspan=\"2\" halign=\"left\">Hurink_rdata</th>\n",
       "      <th colspan=\"2\" halign=\"left\">Hurink_vdata</th>\n",
       "    </tr>\n",
       "    <tr>\n",
       "      <th></th>\n",
       "      <th>Cost</th>\n",
       "      <th>Time</th>\n",
       "      <th>Cost</th>\n",
       "      <th>Time</th>\n",
       "      <th>Cost</th>\n",
       "      <th>Time</th>\n",
       "      <th>Cost</th>\n",
       "      <th>Time</th>\n",
       "    </tr>\n",
       "  </thead>\n",
       "  <tbody>\n",
       "    <tr>\n",
       "      <th>FJSPL2DSolver</th>\n",
       "      <td>209.4</td>\n",
       "      <td>0.595196</td>\n",
       "      <td>1291.55</td>\n",
       "      <td>0.630493</td>\n",
       "      <td>1075.4</td>\n",
       "      <td>0.635453</td>\n",
       "      <td>991.7</td>\n",
       "      <td>0.63281</td>\n",
       "    </tr>\n",
       "  </tbody>\n",
       "</table>\n",
       "</div>"
      ],
      "text/plain": [
       "              Brandimarte           Hurink_edata           Hurink_rdata  \\\n",
       "                     Cost      Time         Cost      Time         Cost   \n",
       "FJSPL2DSolver       209.4  0.595196      1291.55  0.630493       1075.4   \n",
       "\n",
       "                        Hurink_vdata           \n",
       "                   Time         Cost     Time  \n",
       "FJSPL2DSolver  0.635453        991.7  0.63281  "
      ]
     },
     "execution_count": 12,
     "metadata": {},
     "output_type": "execute_result"
    }
   ],
   "source": [
    "df_full_result.swaplevel(axis=1).sort_index(axis=1)"
   ]
  },
  {
   "cell_type": "code",
   "execution_count": 4,
   "metadata": {},
   "outputs": [],
   "source": [
    "results = {}\n",
    "times_results = {}"
   ]
  },
  {
   "cell_type": "code",
   "execution_count": 6,
   "metadata": {},
   "outputs": [
    {
     "name": "stdout",
     "output_type": "stream",
     "text": [
      "Brandimarte\n"
     ]
    },
    {
     "name": "stderr",
     "output_type": "stream",
     "text": [
      "100%|██████████| 10/10 [04:07<00:00, 24.79s/it]\n"
     ]
    },
    {
     "name": "stdout",
     "output_type": "stream",
     "text": [
      "Hurink_edata\n"
     ]
    },
    {
     "name": "stderr",
     "output_type": "stream",
     "text": [
      "100%|██████████| 40/40 [18:05<00:00, 27.13s/it]\n"
     ]
    },
    {
     "name": "stdout",
     "output_type": "stream",
     "text": [
      "Hurink_rdata\n"
     ]
    },
    {
     "name": "stderr",
     "output_type": "stream",
     "text": [
      "100%|██████████| 40/40 [18:12<00:00, 27.32s/it]\n"
     ]
    },
    {
     "name": "stdout",
     "output_type": "stream",
     "text": [
      "Hurink_vdata\n"
     ]
    },
    {
     "name": "stderr",
     "output_type": "stream",
     "text": [
      "100%|██████████| 40/40 [17:59<00:00, 27.00s/it]\n"
     ]
    }
   ],
   "source": [
    "for bench in bench_list:\n",
    "    dataset = FJSPBenchmarksDataset(file_pattern=f\"../data/jsp/benchmarks/{bench}/*.fjs\")\n",
    "    print(bench)\n",
    "    costs = {\"FJSPRandomSolver\": []}\n",
    "    times = {\"FJSPRandomSolver\": []}\n",
    "    for inst, _ in tqdm(dataset):\n",
    "\n",
    "        for solver_name, solver in [(\"FJSPRandomSolver\", FJSPRandomSolver(n_search=100))]:\n",
    "            \n",
    "            try:\n",
    "\n",
    "                start = time()\n",
    "                solution = solver.solve(inst)\n",
    "                cost = inst.total_cost(solution)\n",
    "                times[solver_name].append(time()-start)\n",
    "                costs[solver_name].append(cost)\n",
    "\n",
    "            except AssertionError:\n",
    "                print(solver_name)\n",
    "\n",
    "    results[bench] = {solver: sum(stats)/len(stats) for solver, stats in costs.items()}\n",
    "    times_results[bench] = {solver: sum(stats)/len(stats) for solver, stats in times.items()}"
   ]
  },
  {
   "cell_type": "code",
   "execution_count": 7,
   "metadata": {},
   "outputs": [
    {
     "data": {
      "text/html": [
       "<div>\n",
       "<style scoped>\n",
       "    .dataframe tbody tr th:only-of-type {\n",
       "        vertical-align: middle;\n",
       "    }\n",
       "\n",
       "    .dataframe tbody tr th {\n",
       "        vertical-align: top;\n",
       "    }\n",
       "\n",
       "    .dataframe thead th {\n",
       "        text-align: right;\n",
       "    }\n",
       "</style>\n",
       "<table border=\"1\" class=\"dataframe\">\n",
       "  <thead>\n",
       "    <tr style=\"text-align: right;\">\n",
       "      <th></th>\n",
       "      <th>FJSPRandomSolver</th>\n",
       "    </tr>\n",
       "  </thead>\n",
       "  <tbody>\n",
       "    <tr>\n",
       "      <th>Brandimarte</th>\n",
       "      <td>203.900</td>\n",
       "    </tr>\n",
       "    <tr>\n",
       "      <th>Hurink_edata</th>\n",
       "      <td>1165.825</td>\n",
       "    </tr>\n",
       "    <tr>\n",
       "      <th>Hurink_rdata</th>\n",
       "      <td>1032.325</td>\n",
       "    </tr>\n",
       "    <tr>\n",
       "      <th>Hurink_vdata</th>\n",
       "      <td>951.675</td>\n",
       "    </tr>\n",
       "  </tbody>\n",
       "</table>\n",
       "</div>"
      ],
      "text/plain": [
       "              FJSPRandomSolver\n",
       "Brandimarte            203.900\n",
       "Hurink_edata          1165.825\n",
       "Hurink_rdata          1032.325\n",
       "Hurink_vdata           951.675"
      ]
     },
     "execution_count": 7,
     "metadata": {},
     "output_type": "execute_result"
    }
   ],
   "source": [
    "results_df  = pd.DataFrame(results).T\n",
    "results_df"
   ]
  },
  {
   "cell_type": "code",
   "execution_count": 8,
   "metadata": {},
   "outputs": [
    {
     "data": {
      "text/html": [
       "<div>\n",
       "<style scoped>\n",
       "    .dataframe tbody tr th:only-of-type {\n",
       "        vertical-align: middle;\n",
       "    }\n",
       "\n",
       "    .dataframe tbody tr th {\n",
       "        vertical-align: top;\n",
       "    }\n",
       "\n",
       "    .dataframe thead th {\n",
       "        text-align: right;\n",
       "    }\n",
       "</style>\n",
       "<table border=\"1\" class=\"dataframe\">\n",
       "  <thead>\n",
       "    <tr style=\"text-align: right;\">\n",
       "      <th></th>\n",
       "      <th>FJSPRandomSolver</th>\n",
       "    </tr>\n",
       "  </thead>\n",
       "  <tbody>\n",
       "    <tr>\n",
       "      <th>Brandimarte</th>\n",
       "      <td>24.785972</td>\n",
       "    </tr>\n",
       "    <tr>\n",
       "      <th>Hurink_edata</th>\n",
       "      <td>27.121553</td>\n",
       "    </tr>\n",
       "    <tr>\n",
       "      <th>Hurink_rdata</th>\n",
       "      <td>27.310810</td>\n",
       "    </tr>\n",
       "    <tr>\n",
       "      <th>Hurink_vdata</th>\n",
       "      <td>26.992061</td>\n",
       "    </tr>\n",
       "  </tbody>\n",
       "</table>\n",
       "</div>"
      ],
      "text/plain": [
       "              FJSPRandomSolver\n",
       "Brandimarte          24.785972\n",
       "Hurink_edata         27.121553\n",
       "Hurink_rdata         27.310810\n",
       "Hurink_vdata         26.992061"
      ]
     },
     "execution_count": 8,
     "metadata": {},
     "output_type": "execute_result"
    }
   ],
   "source": [
    "times_results_df = pd.DataFrame(times_results).T\n",
    "times_results_df"
   ]
  },
  {
   "cell_type": "code",
   "execution_count": 9,
   "metadata": {},
   "outputs": [],
   "source": [
    "df_full_result = pd.concat([results_df.T, times_results_df.T], axis=1, keys=['Cost', 'Time'])"
   ]
  },
  {
   "cell_type": "code",
   "execution_count": 10,
   "metadata": {},
   "outputs": [
    {
     "data": {
      "text/html": [
       "<div>\n",
       "<style scoped>\n",
       "    .dataframe tbody tr th:only-of-type {\n",
       "        vertical-align: middle;\n",
       "    }\n",
       "\n",
       "    .dataframe tbody tr th {\n",
       "        vertical-align: top;\n",
       "    }\n",
       "\n",
       "    .dataframe thead tr th {\n",
       "        text-align: left;\n",
       "    }\n",
       "</style>\n",
       "<table border=\"1\" class=\"dataframe\">\n",
       "  <thead>\n",
       "    <tr>\n",
       "      <th></th>\n",
       "      <th colspan=\"2\" halign=\"left\">Brandimarte</th>\n",
       "      <th colspan=\"2\" halign=\"left\">Hurink_edata</th>\n",
       "      <th colspan=\"2\" halign=\"left\">Hurink_rdata</th>\n",
       "      <th colspan=\"2\" halign=\"left\">Hurink_vdata</th>\n",
       "    </tr>\n",
       "    <tr>\n",
       "      <th></th>\n",
       "      <th>Cost</th>\n",
       "      <th>Time</th>\n",
       "      <th>Cost</th>\n",
       "      <th>Time</th>\n",
       "      <th>Cost</th>\n",
       "      <th>Time</th>\n",
       "      <th>Cost</th>\n",
       "      <th>Time</th>\n",
       "    </tr>\n",
       "  </thead>\n",
       "  <tbody>\n",
       "    <tr>\n",
       "      <th>FJSPRandomSolver</th>\n",
       "      <td>203.9</td>\n",
       "      <td>24.785972</td>\n",
       "      <td>1165.825</td>\n",
       "      <td>27.121553</td>\n",
       "      <td>1032.325</td>\n",
       "      <td>27.31081</td>\n",
       "      <td>951.675</td>\n",
       "      <td>26.992061</td>\n",
       "    </tr>\n",
       "  </tbody>\n",
       "</table>\n",
       "</div>"
      ],
      "text/plain": [
       "                 Brandimarte            Hurink_edata            Hurink_rdata  \\\n",
       "                        Cost       Time         Cost       Time         Cost   \n",
       "FJSPRandomSolver       203.9  24.785972     1165.825  27.121553     1032.325   \n",
       "\n",
       "                           Hurink_vdata             \n",
       "                      Time         Cost       Time  \n",
       "FJSPRandomSolver  27.31081      951.675  26.992061  "
      ]
     },
     "execution_count": 10,
     "metadata": {},
     "output_type": "execute_result"
    }
   ],
   "source": [
    "df_full_result.swaplevel(axis=1).sort_index(axis=1)"
   ]
  },
  {
   "cell_type": "code",
   "execution_count": null,
   "metadata": {},
   "outputs": [],
   "source": []
  }
 ],
 "metadata": {
  "kernelspec": {
   "display_name": ".venv",
   "language": "python",
   "name": "python3"
  },
  "language_info": {
   "codemirror_mode": {
    "name": "ipython",
    "version": 3
   },
   "file_extension": ".py",
   "mimetype": "text/x-python",
   "name": "python",
   "nbconvert_exporter": "python",
   "pygments_lexer": "ipython3",
   "version": "3.10.12"
  }
 },
 "nbformat": 4,
 "nbformat_minor": 2
}
