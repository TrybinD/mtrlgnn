{
 "cells": [
  {
   "cell_type": "markdown",
   "metadata": {},
   "source": [
    "Временный файлик для работы с ORTools"
   ]
  },
  {
   "cell_type": "code",
   "execution_count": 25,
   "metadata": {},
   "outputs": [],
   "source": [
    "import collections\n",
    "from ortools.sat.python import cp_model"
   ]
  },
  {
   "cell_type": "code",
   "execution_count": 26,
   "metadata": {},
   "outputs": [],
   "source": [
    "jobs = [[[(6, 0), (7, 1), (7, 2)], [(4, 1)], [(8, 0), (6, 1), (7, 2)]],\n",
    " [[(18, 1)], [(2, 0), (3, 2)]],\n",
    " [[(5, 0), (7, 1)], [(9, 0), (12, 1), (12, 2)]],\n",
    " [[(16, 0), (10, 2)]]]\n",
    "\n",
    "num_jobs = len(jobs)\n",
    "all_jobs = range(num_jobs)\n",
    "\n",
    "num_machines = 3\n",
    "all_machines = range(num_machines)"
   ]
  },
  {
   "cell_type": "code",
   "execution_count": 27,
   "metadata": {},
   "outputs": [],
   "source": [
    "model = cp_model.CpModel()"
   ]
  },
  {
   "cell_type": "code",
   "execution_count": 28,
   "metadata": {},
   "outputs": [],
   "source": [
    "horizon = 0\n",
    "for job in jobs:\n",
    "    for task in job:\n",
    "        max_task_duration = 0\n",
    "        for alternative in task:\n",
    "            max_task_duration = max(max_task_duration, alternative[0])\n",
    "        horizon += max_task_duration"
   ]
  },
  {
   "cell_type": "code",
   "execution_count": 29,
   "metadata": {},
   "outputs": [
    {
     "data": {
      "text/plain": [
       "75"
      ]
     },
     "execution_count": 29,
     "metadata": {},
     "output_type": "execute_result"
    }
   ],
   "source": [
    "horizon"
   ]
  },
  {
   "cell_type": "code",
   "execution_count": 30,
   "metadata": {},
   "outputs": [],
   "source": [
    "intervals_per_resources = collections.defaultdict(list)\n",
    "starts = {}  # indexed by (job_id, task_id).\n",
    "presences = {}  # indexed by (job_id, task_id, alt_id).\n",
    "job_ends: list[cp_model.IntVar] = []"
   ]
  },
  {
   "cell_type": "code",
   "execution_count": 31,
   "metadata": {},
   "outputs": [],
   "source": [
    "        for job_id in all_jobs:\n",
    "            job = jobs[job_id]\n",
    "            num_tasks = len(job)\n",
    "            previous_end = None\n",
    "            for task_id in range(num_tasks):\n",
    "                task = job[task_id]\n",
    "\n",
    "                min_duration = task[0][0]\n",
    "                max_duration = task[0][0]\n",
    "\n",
    "                num_alternatives = len(task)\n",
    "                all_alternatives = range(num_alternatives)\n",
    "\n",
    "                for alt_id in range(1, num_alternatives):\n",
    "                    alt_duration = task[alt_id][0]\n",
    "                    min_duration = min(min_duration, alt_duration)\n",
    "                    max_duration = max(max_duration, alt_duration)\n",
    "\n",
    "                # Create main interval for the task.\n",
    "                suffix_name = f\"_j{job_id}_t{task_id}\"\n",
    "                start = model.new_int_var(0, horizon, \"start\" + suffix_name)\n",
    "                duration = model.new_int_var(\n",
    "                    min_duration, max_duration, \"duration\" + suffix_name\n",
    "                )\n",
    "                end = model.new_int_var(0, horizon, \"end\" + suffix_name)\n",
    "                interval = model.new_interval_var(\n",
    "                    start, duration, end, \"interval\" + suffix_name\n",
    "                )\n",
    "\n",
    "                # Store the start for the solution.\n",
    "                starts[(job_id, task_id)] = start\n",
    "\n",
    "                # Add precedence with previous task in the same job.\n",
    "                if previous_end is not None:\n",
    "                    model.add(start >= previous_end)\n",
    "                previous_end = end\n",
    "\n",
    "                # Create alternative intervals.\n",
    "                if num_alternatives > 1:\n",
    "                    l_presences = []\n",
    "                    for alt_id in all_alternatives:\n",
    "                        alt_suffix = f\"_j{job_id}_t{task_id}_a{alt_id}\"\n",
    "                        l_presence = model.new_bool_var(\"presence\" + alt_suffix)\n",
    "                        l_start = model.new_int_var(0, horizon, \"start\" + alt_suffix)\n",
    "                        l_duration = task[alt_id][0]\n",
    "                        l_end = model.new_int_var(0, horizon, \"end\" + alt_suffix)\n",
    "                        l_interval = model.new_optional_interval_var(\n",
    "                            l_start, l_duration, l_end, l_presence, \"interval\" + alt_suffix\n",
    "                        )\n",
    "                        l_presences.append(l_presence)\n",
    "\n",
    "                        # Link the primary/global variables with the local ones.\n",
    "                        model.add(start == l_start).only_enforce_if(l_presence)\n",
    "                        model.add(duration == l_duration).only_enforce_if(l_presence)\n",
    "                        model.add(end == l_end).only_enforce_if(l_presence)\n",
    "\n",
    "                        # Add the local interval to the right machine.\n",
    "                        intervals_per_resources[task[alt_id][1]].append(l_interval)\n",
    "\n",
    "                        # Store the presences for the solution.\n",
    "                        presences[(job_id, task_id, alt_id)] = l_presence\n",
    "\n",
    "                    # Select exactly one presence variable.\n",
    "                    model.add_exactly_one(l_presences)\n",
    "                else:\n",
    "                    intervals_per_resources[task[0][1]].append(interval)\n",
    "                    presences[(job_id, task_id, 0)] = model.new_constant(1)\n",
    "\n",
    "            if previous_end is not None:\n",
    "                job_ends.append(previous_end)"
   ]
  },
  {
   "cell_type": "code",
   "execution_count": 32,
   "metadata": {},
   "outputs": [],
   "source": [
    "for machine_id in all_machines:\n",
    "    intervals = intervals_per_resources[machine_id]\n",
    "    if len(intervals) > 1:\n",
    "        model.add_no_overlap(intervals)\n",
    "\n",
    "# Makespan objective\n",
    "makespan = model.new_int_var(0, horizon, \"makespan\")\n",
    "model.add_max_equality(makespan, job_ends)\n",
    "model.minimize(makespan)\n",
    "\n",
    "# Solve model.\n",
    "solver = cp_model.CpSolver()"
   ]
  },
  {
   "cell_type": "code",
   "execution_count": 33,
   "metadata": {},
   "outputs": [],
   "source": [
    "status = solver.solve(model)"
   ]
  },
  {
   "cell_type": "code",
   "execution_count": null,
   "metadata": {},
   "outputs": [],
   "source": []
  },
  {
   "cell_type": "code",
   "execution_count": 45,
   "metadata": {},
   "outputs": [],
   "source": [
    "ans = [[] for _ in range(num_machines)]"
   ]
  },
  {
   "cell_type": "code",
   "execution_count": 46,
   "metadata": {},
   "outputs": [],
   "source": [
    "for job_id in all_jobs:\n",
    "    for task_id, task in enumerate(jobs[job_id]):\n",
    "        start_value = solver.value(starts[(job_id, task_id)])\n",
    "        machine: int = -1\n",
    "        task_duration: int = -1\n",
    "        selected: int = -1\n",
    "        for alt_id, alt in enumerate(task):\n",
    "            if solver.boolean_value(presences[(job_id, task_id, alt_id)]):\n",
    "                task_duration, machine = alt\n",
    "                selected = alt_id\n",
    "\n",
    "                ans[machine].append((start_value, job_id))"
   ]
  },
  {
   "cell_type": "code",
   "execution_count": 47,
   "metadata": {},
   "outputs": [],
   "source": [
    "ans = list(map(lambda x: [m for t, m in sorted(x)], ans))"
   ]
  },
  {
   "cell_type": "code",
   "execution_count": 48,
   "metadata": {},
   "outputs": [
    {
     "data": {
      "text/plain": [
       "[[2, 2, 1], [1, 0, 0], [0, 3]]"
      ]
     },
     "execution_count": 48,
     "metadata": {},
     "output_type": "execute_result"
    }
   ],
   "source": [
    "ans"
   ]
  },
  {
   "cell_type": "code",
   "execution_count": null,
   "metadata": {},
   "outputs": [],
   "source": []
  },
  {
   "cell_type": "code",
   "execution_count": null,
   "metadata": {},
   "outputs": [],
   "source": []
  },
  {
   "cell_type": "code",
   "execution_count": null,
   "metadata": {},
   "outputs": [],
   "source": []
  },
  {
   "cell_type": "code",
   "execution_count": null,
   "metadata": {},
   "outputs": [],
   "source": []
  },
  {
   "cell_type": "code",
   "execution_count": null,
   "metadata": {},
   "outputs": [],
   "source": []
  },
  {
   "cell_type": "code",
   "execution_count": 17,
   "metadata": {},
   "outputs": [
    {
     "name": "stdout",
     "output_type": "stream",
     "text": [
      "Optimal objective value: 28.0\n",
      "Job 0\n",
      "  task_0_0 starts at 0 (alt 2, machine 2, duration 7)\n",
      "  task_0_1 starts at 18 (alt 0, machine 1, duration 4)\n",
      "  task_0_2 starts at 22 (alt 1, machine 1, duration 6)\n",
      "Job 1\n",
      "  task_1_0 starts at 0 (alt 0, machine 1, duration 18)\n",
      "  task_1_1 starts at 18 (alt 1, machine 2, duration 3)\n",
      "Job 2\n",
      "  task_2_0 starts at 0 (alt 0, machine 0, duration 5)\n",
      "  task_2_1 starts at 5 (alt 0, machine 0, duration 9)\n",
      "Job 3\n",
      "  task_3_0 starts at 7 (alt 1, machine 2, duration 10)\n",
      "CpSolverResponse summary:\n",
      "status: OPTIMAL\n",
      "objective: 28\n",
      "best_bound: 28\n",
      "integers: 51\n",
      "booleans: 59\n",
      "conflicts: 2\n",
      "branches: 198\n",
      "propagations: 169\n",
      "integer_propagations: 924\n",
      "restarts: 54\n",
      "lp_iterations: 19\n",
      "walltime: 0.0126121\n",
      "usertime: 0.0126121\n",
      "deterministic_time: 0.000593519\n",
      "gap_integral: 0.0019823\n",
      "solution_fingerprint: 0x1b05c79d6743487\n",
      "\n"
     ]
    }
   ],
   "source": [
    "if status in (cp_model.OPTIMAL, cp_model.FEASIBLE):\n",
    "    print(f\"Optimal objective value: {solver.objective_value}\")\n",
    "    for job_id in all_jobs:\n",
    "        print(f\"Job {job_id}\")\n",
    "        for task_id, task in enumerate(jobs[job_id]):\n",
    "            start_value = solver.value(starts[(job_id, task_id)])\n",
    "            machine: int = -1\n",
    "            task_duration: int = -1\n",
    "            selected: int = -1\n",
    "            for alt_id, alt in enumerate(task):\n",
    "                if solver.boolean_value(presences[(job_id, task_id, alt_id)]):\n",
    "                    task_duration, machine = alt\n",
    "                    selected = alt_id\n",
    "            print(\n",
    "                f\"  task_{job_id}_{task_id} starts at {start_value} (alt\"\n",
    "                f\" {selected}, machine {machine}, duration {task_duration})\"\n",
    "            )\n",
    "\n",
    "print(solver.response_stats())"
   ]
  },
  {
   "cell_type": "code",
   "execution_count": null,
   "metadata": {},
   "outputs": [],
   "source": []
  }
 ],
 "metadata": {
  "kernelspec": {
   "display_name": ".venv",
   "language": "python",
   "name": "python3"
  },
  "language_info": {
   "codemirror_mode": {
    "name": "ipython",
    "version": 3
   },
   "file_extension": ".py",
   "mimetype": "text/x-python",
   "name": "python",
   "nbconvert_exporter": "python",
   "pygments_lexer": "ipython3",
   "version": "3.10.12"
  }
 },
 "nbformat": 4,
 "nbformat_minor": 2
}
